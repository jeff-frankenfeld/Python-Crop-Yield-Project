{
 "cells": [
  {
   "cell_type": "markdown",
   "id": "a07a3486-7875-4700-8778-4e7915a97125",
   "metadata": {},
   "source": [
    "# Table of Contents"
   ]
  },
  {
   "cell_type": "markdown",
   "id": "a85b58ff-632e-47a5-804a-0d01896f5387",
   "metadata": {
    "jp-MarkdownHeadingCollapsed": true
   },
   "source": [
    "#### 1. Import libraries and data\n",
    "#### 2. Subsetting, wrangling, and cleaning time-series data\n",
    "            Subset Creation\n",
    "            Missing Values\n",
    "            Duplicate Values\n",
    "            Index Reset\n",
    "#### 3. Line Chart\n",
    "#### 4. Decompose the data\n",
    "#### 5. Conduct a Dickey_Fuller test\n",
    "            Interpretation\n",
    "            Autocorrelation\n",
    "                Interpretation\n",
    "#### 6. Stationarizing the US Grain Supply data\n",
    "            Interpretation\n",
    "#### 7. Check the data's autocorrelations\n",
    "            Interpretation\n",
    "#### 8. Export data"
   ]
  },
  {
   "cell_type": "markdown",
   "id": "46e66130-998c-4906-9c07-114097e29f83",
   "metadata": {},
   "source": [
    "## 1. Import Libraries and Data"
   ]
  },
  {
   "cell_type": "code",
   "execution_count": 4,
   "id": "7063ee96-c3e6-47e6-aa70-092c2e881d13",
   "metadata": {},
   "outputs": [],
   "source": [
    "import pandas as pd\n",
    "import numpy as np\n",
    "import seaborn as sns\n",
    "import matplotlib\n",
    "import matplotlib.pyplot as plt\n",
    "import statsmodels.api as sm # Using .api imports the public access version of statsmodels, which is a library that handles \n",
    "# statistical models.\n",
    "import os\n",
    "import warnings # This is a library that handles warnings.\n",
    "\n",
    "warnings.filterwarnings(\"ignore\") # Disable deprecation warnings that could indicate, for instance, a suspended library or \n",
    "# feature. These are more relevant to developers and very seldom to analysts.\n",
    "\n",
    "plt.style.use('fivethirtyeight') # This is a styling option for how your plots will appear. More examples here:\n",
    "# https://matplotlib.org/3.2.1/tutorials/introductory/customizing.html\n",
    "# https://matplotlib.org/3.1.0/gallery/style_sheets/fivethirtyeight.html"
   ]
  },
  {
   "cell_type": "code",
   "execution_count": 5,
   "id": "06a4f568-30d6-4f19-a38b-05ad907803d5",
   "metadata": {},
   "outputs": [],
   "source": [
    "# create shortcut path\n",
    "path = r\"C:\\Users\\HP\\Documents\\09-2024 Agriculture Crop Analysis\""
   ]
  },
  {
   "cell_type": "code",
   "execution_count": 6,
   "id": "99bed475-9039-4fa7-aa05-1d9e930fa711",
   "metadata": {},
   "outputs": [],
   "source": [
    "# import dataset\n",
    "data = pd.read_csv(os.path.join(path, '02 Data', 'Original Data', 'us_crop_data.csv'), index_col = False)"
   ]
  },
  {
   "cell_type": "code",
   "execution_count": 7,
   "id": "6b5ce468-5dcd-4f7f-86dd-5c681500c5dd",
   "metadata": {},
   "outputs": [
    {
     "data": {
      "text/html": [
       "<div>\n",
       "<style scoped>\n",
       "    .dataframe tbody tr th:only-of-type {\n",
       "        vertical-align: middle;\n",
       "    }\n",
       "\n",
       "    .dataframe tbody tr th {\n",
       "        vertical-align: top;\n",
       "    }\n",
       "\n",
       "    .dataframe thead th {\n",
       "        text-align: right;\n",
       "    }\n",
       "</style>\n",
       "<table border=\"1\" class=\"dataframe\">\n",
       "  <thead>\n",
       "    <tr style=\"text-align: right;\">\n",
       "      <th></th>\n",
       "      <th>code</th>\n",
       "      <th>report_month</th>\n",
       "      <th>region</th>\n",
       "      <th>commodity</th>\n",
       "      <th>item</th>\n",
       "      <th>year</th>\n",
       "      <th>period</th>\n",
       "      <th>value</th>\n",
       "    </tr>\n",
       "  </thead>\n",
       "  <tbody>\n",
       "    <tr>\n",
       "      <th>0</th>\n",
       "      <td>GRAINS_US_08</td>\n",
       "      <td>2020-10</td>\n",
       "      <td>United States</td>\n",
       "      <td>Total Grains 4/</td>\n",
       "      <td>Total Supply</td>\n",
       "      <td>2018/19</td>\n",
       "      <td>Annual</td>\n",
       "      <td>532.30</td>\n",
       "    </tr>\n",
       "    <tr>\n",
       "      <th>1</th>\n",
       "      <td>GRAINS_US_08</td>\n",
       "      <td>2020-09</td>\n",
       "      <td>United States</td>\n",
       "      <td>Total Grains 4/</td>\n",
       "      <td>Total Supply</td>\n",
       "      <td>2018/19</td>\n",
       "      <td>Annual</td>\n",
       "      <td>532.30</td>\n",
       "    </tr>\n",
       "    <tr>\n",
       "      <th>2</th>\n",
       "      <td>GRAINS_US_08</td>\n",
       "      <td>2020-08</td>\n",
       "      <td>United States</td>\n",
       "      <td>Total Grains 4/</td>\n",
       "      <td>Total Supply</td>\n",
       "      <td>2018/19</td>\n",
       "      <td>Annual</td>\n",
       "      <td>532.30</td>\n",
       "    </tr>\n",
       "    <tr>\n",
       "      <th>3</th>\n",
       "      <td>GRAINS_US_08</td>\n",
       "      <td>2020-07</td>\n",
       "      <td>United States</td>\n",
       "      <td>Total Grains 4/</td>\n",
       "      <td>Total Supply</td>\n",
       "      <td>2018/19</td>\n",
       "      <td>Annual</td>\n",
       "      <td>532.30</td>\n",
       "    </tr>\n",
       "    <tr>\n",
       "      <th>4</th>\n",
       "      <td>GRAINS_US_08</td>\n",
       "      <td>2020-06</td>\n",
       "      <td>United States</td>\n",
       "      <td>Total Grains 4/</td>\n",
       "      <td>Total Supply</td>\n",
       "      <td>2018/19</td>\n",
       "      <td>Annual</td>\n",
       "      <td>532.31</td>\n",
       "    </tr>\n",
       "  </tbody>\n",
       "</table>\n",
       "</div>"
      ],
      "text/plain": [
       "           code report_month         region        commodity          item  \\\n",
       "0  GRAINS_US_08      2020-10  United States  Total Grains 4/  Total Supply   \n",
       "1  GRAINS_US_08      2020-09  United States  Total Grains 4/  Total Supply   \n",
       "2  GRAINS_US_08      2020-08  United States  Total Grains 4/  Total Supply   \n",
       "3  GRAINS_US_08      2020-07  United States  Total Grains 4/  Total Supply   \n",
       "4  GRAINS_US_08      2020-06  United States  Total Grains 4/  Total Supply   \n",
       "\n",
       "      year  period   value  \n",
       "0  2018/19  Annual  532.30  \n",
       "1  2018/19  Annual  532.30  \n",
       "2  2018/19  Annual  532.30  \n",
       "3  2018/19  Annual  532.30  \n",
       "4  2018/19  Annual  532.31  "
      ]
     },
     "execution_count": 7,
     "metadata": {},
     "output_type": "execute_result"
    }
   ],
   "source": [
    "data.head()"
   ]
  },
  {
   "cell_type": "code",
   "execution_count": 8,
   "id": "9d09de60-c824-4334-9841-14d60c79afd8",
   "metadata": {},
   "outputs": [
    {
     "data": {
      "text/plain": [
       "(153, 8)"
      ]
     },
     "execution_count": 8,
     "metadata": {},
     "output_type": "execute_result"
    }
   ],
   "source": [
    "data.shape"
   ]
  },
  {
   "cell_type": "code",
   "execution_count": 9,
   "id": "b7847e5f-0edf-4ac4-ba5a-1fba1df07037",
   "metadata": {},
   "outputs": [
    {
     "data": {
      "text/html": [
       "<div>\n",
       "<style scoped>\n",
       "    .dataframe tbody tr th:only-of-type {\n",
       "        vertical-align: middle;\n",
       "    }\n",
       "\n",
       "    .dataframe tbody tr th {\n",
       "        vertical-align: top;\n",
       "    }\n",
       "\n",
       "    .dataframe thead th {\n",
       "        text-align: right;\n",
       "    }\n",
       "</style>\n",
       "<table border=\"1\" class=\"dataframe\">\n",
       "  <thead>\n",
       "    <tr style=\"text-align: right;\">\n",
       "      <th></th>\n",
       "      <th>value</th>\n",
       "    </tr>\n",
       "  </thead>\n",
       "  <tbody>\n",
       "    <tr>\n",
       "      <th>count</th>\n",
       "      <td>153.000000</td>\n",
       "    </tr>\n",
       "    <tr>\n",
       "      <th>mean</th>\n",
       "      <td>498.039673</td>\n",
       "    </tr>\n",
       "    <tr>\n",
       "      <th>std</th>\n",
       "      <td>37.192451</td>\n",
       "    </tr>\n",
       "    <tr>\n",
       "      <th>min</th>\n",
       "      <td>412.940000</td>\n",
       "    </tr>\n",
       "    <tr>\n",
       "      <th>25%</th>\n",
       "      <td>479.500000</td>\n",
       "    </tr>\n",
       "    <tr>\n",
       "      <th>50%</th>\n",
       "      <td>506.000000</td>\n",
       "    </tr>\n",
       "    <tr>\n",
       "      <th>75%</th>\n",
       "      <td>516.870000</td>\n",
       "    </tr>\n",
       "    <tr>\n",
       "      <th>max</th>\n",
       "      <td>556.090000</td>\n",
       "    </tr>\n",
       "  </tbody>\n",
       "</table>\n",
       "</div>"
      ],
      "text/plain": [
       "            value\n",
       "count  153.000000\n",
       "mean   498.039673\n",
       "std     37.192451\n",
       "min    412.940000\n",
       "25%    479.500000\n",
       "50%    506.000000\n",
       "75%    516.870000\n",
       "max    556.090000"
      ]
     },
     "execution_count": 9,
     "metadata": {},
     "output_type": "execute_result"
    }
   ],
   "source": [
    "data.describe()"
   ]
  },
  {
   "cell_type": "markdown",
   "id": "36ad37d3-482e-4dbc-9464-2e230e572341",
   "metadata": {},
   "source": [
    "## 2. Subsetting, wrangling, and cleaning time-series data"
   ]
  },
  {
   "cell_type": "markdown",
   "id": "688c4e32-ab39-47c4-935b-5a99b5ed05e8",
   "metadata": {},
   "source": [
    "### Subset Creation"
   ]
  },
  {
   "cell_type": "markdown",
   "id": "1c88cc9c-eed9-4b0e-99e4-961526cea001",
   "metadata": {},
   "source": [
    "Before importing my data, I filtered down the data set in excel to remove the following...\n",
    "- had the 'code' column to only show US grain values\n",
    "- had the 'commodity' column to only show 'Total Grains 4/' and 'Total Grains 3/' to show the overall grain production in the US and not the individual grain supply\n",
    "- had the 'item' column only show the 'Total Supply' to have a better visual of overall yield regardless of what purpose the grain was being used for (food, livestock)\n",
    "- had the 'period' column only show the 'Annual' total supply\n",
    "- removed the estimated and projected yields to only show the actual yield\n",
    "\n",
    "I tried to create these subsets in python but found out the imported data via the API link was not importing all of the data compared to the downloadable data set from the website directly."
   ]
  },
  {
   "cell_type": "code",
   "execution_count": 13,
   "id": "53ae4d7d-b95e-4e18-b624-b365da39c4f8",
   "metadata": {},
   "outputs": [],
   "source": [
    "# removing columns to show only the 'report_month' and 'value'\n",
    "\n",
    "df_month = data.drop(columns = ['code', 'region', 'commodity', 'item', 'year', 'period'])"
   ]
  },
  {
   "cell_type": "code",
   "execution_count": 14,
   "id": "e80bbbd0-2d82-4b8d-b2aa-35ab5137fefd",
   "metadata": {},
   "outputs": [
    {
     "data": {
      "text/html": [
       "<div>\n",
       "<style scoped>\n",
       "    .dataframe tbody tr th:only-of-type {\n",
       "        vertical-align: middle;\n",
       "    }\n",
       "\n",
       "    .dataframe tbody tr th {\n",
       "        vertical-align: top;\n",
       "    }\n",
       "\n",
       "    .dataframe thead th {\n",
       "        text-align: right;\n",
       "    }\n",
       "</style>\n",
       "<table border=\"1\" class=\"dataframe\">\n",
       "  <thead>\n",
       "    <tr style=\"text-align: right;\">\n",
       "      <th></th>\n",
       "      <th>report_month</th>\n",
       "      <th>value</th>\n",
       "    </tr>\n",
       "  </thead>\n",
       "  <tbody>\n",
       "    <tr>\n",
       "      <th>0</th>\n",
       "      <td>2020-10</td>\n",
       "      <td>532.30</td>\n",
       "    </tr>\n",
       "    <tr>\n",
       "      <th>1</th>\n",
       "      <td>2020-09</td>\n",
       "      <td>532.30</td>\n",
       "    </tr>\n",
       "    <tr>\n",
       "      <th>2</th>\n",
       "      <td>2020-08</td>\n",
       "      <td>532.30</td>\n",
       "    </tr>\n",
       "    <tr>\n",
       "      <th>3</th>\n",
       "      <td>2020-07</td>\n",
       "      <td>532.30</td>\n",
       "    </tr>\n",
       "    <tr>\n",
       "      <th>4</th>\n",
       "      <td>2020-06</td>\n",
       "      <td>532.31</td>\n",
       "    </tr>\n",
       "  </tbody>\n",
       "</table>\n",
       "</div>"
      ],
      "text/plain": [
       "  report_month   value\n",
       "0      2020-10  532.30\n",
       "1      2020-09  532.30\n",
       "2      2020-08  532.30\n",
       "3      2020-07  532.30\n",
       "4      2020-06  532.31"
      ]
     },
     "execution_count": 14,
     "metadata": {},
     "output_type": "execute_result"
    }
   ],
   "source": [
    "df_month.head()"
   ]
  },
  {
   "cell_type": "code",
   "execution_count": 15,
   "id": "a61502f8-5ef0-4375-90bc-373f85edecd0",
   "metadata": {},
   "outputs": [],
   "source": [
    "# removing columns to show only the 'year' and 'value'\n",
    "\n",
    "df_year = data.drop(columns = ['code', 'report_month', 'region', 'commodity', 'item', 'period'])"
   ]
  },
  {
   "cell_type": "code",
   "execution_count": 16,
   "id": "7ebec074-dd7a-44fb-aa25-c5235bf86999",
   "metadata": {},
   "outputs": [
    {
     "data": {
      "text/html": [
       "<div>\n",
       "<style scoped>\n",
       "    .dataframe tbody tr th:only-of-type {\n",
       "        vertical-align: middle;\n",
       "    }\n",
       "\n",
       "    .dataframe tbody tr th {\n",
       "        vertical-align: top;\n",
       "    }\n",
       "\n",
       "    .dataframe thead th {\n",
       "        text-align: right;\n",
       "    }\n",
       "</style>\n",
       "<table border=\"1\" class=\"dataframe\">\n",
       "  <thead>\n",
       "    <tr style=\"text-align: right;\">\n",
       "      <th></th>\n",
       "      <th>year</th>\n",
       "      <th>value</th>\n",
       "    </tr>\n",
       "  </thead>\n",
       "  <tbody>\n",
       "    <tr>\n",
       "      <th>0</th>\n",
       "      <td>2018/19</td>\n",
       "      <td>532.30</td>\n",
       "    </tr>\n",
       "    <tr>\n",
       "      <th>1</th>\n",
       "      <td>2018/19</td>\n",
       "      <td>532.30</td>\n",
       "    </tr>\n",
       "    <tr>\n",
       "      <th>2</th>\n",
       "      <td>2018/19</td>\n",
       "      <td>532.30</td>\n",
       "    </tr>\n",
       "    <tr>\n",
       "      <th>3</th>\n",
       "      <td>2018/19</td>\n",
       "      <td>532.30</td>\n",
       "    </tr>\n",
       "    <tr>\n",
       "      <th>4</th>\n",
       "      <td>2018/19</td>\n",
       "      <td>532.31</td>\n",
       "    </tr>\n",
       "  </tbody>\n",
       "</table>\n",
       "</div>"
      ],
      "text/plain": [
       "      year   value\n",
       "0  2018/19  532.30\n",
       "1  2018/19  532.30\n",
       "2  2018/19  532.30\n",
       "3  2018/19  532.30\n",
       "4  2018/19  532.31"
      ]
     },
     "execution_count": 16,
     "metadata": {},
     "output_type": "execute_result"
    }
   ],
   "source": [
    "df_year.head()"
   ]
  },
  {
   "cell_type": "markdown",
   "id": "d8d1fbbc-9eba-4b65-b379-e7110c848c27",
   "metadata": {},
   "source": [
    "### Missing Values"
   ]
  },
  {
   "cell_type": "code",
   "execution_count": 18,
   "id": "dc5a98dc-d6d6-48ee-8b73-96bf4627b3fb",
   "metadata": {},
   "outputs": [
    {
     "data": {
      "text/plain": [
       "report_month    0\n",
       "value           0\n",
       "dtype: int64"
      ]
     },
     "execution_count": 18,
     "metadata": {},
     "output_type": "execute_result"
    }
   ],
   "source": [
    "# finding missing values in the df_month subset\n",
    "\n",
    "df_month.isnull().sum()"
   ]
  },
  {
   "cell_type": "markdown",
   "id": "5d1d97d6-5f61-43d9-b61b-4e2ffaeb27f3",
   "metadata": {},
   "source": [
    "No missing values"
   ]
  },
  {
   "cell_type": "code",
   "execution_count": 20,
   "id": "4517bc38-3dc4-42ff-979c-d6f19a8ea8ca",
   "metadata": {},
   "outputs": [
    {
     "data": {
      "text/plain": [
       "year     0\n",
       "value    0\n",
       "dtype: int64"
      ]
     },
     "execution_count": 20,
     "metadata": {},
     "output_type": "execute_result"
    }
   ],
   "source": [
    "# finding missing values in the df_year subset\n",
    "\n",
    "df_year.isnull().sum()"
   ]
  },
  {
   "cell_type": "markdown",
   "id": "2c5b782e-4327-43f6-958f-3735b522a322",
   "metadata": {},
   "source": [
    "No missing values"
   ]
  },
  {
   "cell_type": "markdown",
   "id": "4655d032-fa10-482a-8032-fb6f085d636e",
   "metadata": {},
   "source": [
    "### Duplicate Values"
   ]
  },
  {
   "cell_type": "code",
   "execution_count": 23,
   "id": "fbbd6c55-623d-4711-8593-a992b1ed842e",
   "metadata": {},
   "outputs": [],
   "source": [
    "# checking for duplicates in the df_month subset\n",
    "\n",
    "data_dups_month = df_month[df_month.duplicated()]"
   ]
  },
  {
   "cell_type": "code",
   "execution_count": 24,
   "id": "96df10a9-3ac1-4f9e-8631-4045ebe29c09",
   "metadata": {},
   "outputs": [
    {
     "data": {
      "text/html": [
       "<div>\n",
       "<style scoped>\n",
       "    .dataframe tbody tr th:only-of-type {\n",
       "        vertical-align: middle;\n",
       "    }\n",
       "\n",
       "    .dataframe tbody tr th {\n",
       "        vertical-align: top;\n",
       "    }\n",
       "\n",
       "    .dataframe thead th {\n",
       "        text-align: right;\n",
       "    }\n",
       "</style>\n",
       "<table border=\"1\" class=\"dataframe\">\n",
       "  <thead>\n",
       "    <tr style=\"text-align: right;\">\n",
       "      <th></th>\n",
       "      <th>report_month</th>\n",
       "      <th>value</th>\n",
       "    </tr>\n",
       "  </thead>\n",
       "  <tbody>\n",
       "  </tbody>\n",
       "</table>\n",
       "</div>"
      ],
      "text/plain": [
       "Empty DataFrame\n",
       "Columns: [report_month, value]\n",
       "Index: []"
      ]
     },
     "execution_count": 24,
     "metadata": {},
     "output_type": "execute_result"
    }
   ],
   "source": [
    "data_dups_month"
   ]
  },
  {
   "cell_type": "markdown",
   "id": "f536531d-4f2a-4e1f-8aee-e82eb5e3c4a7",
   "metadata": {},
   "source": [
    "There are no duplicates"
   ]
  },
  {
   "cell_type": "code",
   "execution_count": 26,
   "id": "af8d2a50-4cab-44d7-a2b2-67c53c9e21c4",
   "metadata": {},
   "outputs": [],
   "source": [
    "# checking for duplicates in the df_year subset specifically from the 'year' column\n",
    "# I chose to check the year column and not the overall records because the year is what is needed to plot on the x-axis, not the value\n",
    "\n",
    "data_dups_year = df_year[df_year.duplicated('year')]"
   ]
  },
  {
   "cell_type": "code",
   "execution_count": 27,
   "id": "faed2e2a-0875-4927-a90f-9a0317d91bb6",
   "metadata": {},
   "outputs": [
    {
     "data": {
      "text/html": [
       "<div>\n",
       "<style scoped>\n",
       "    .dataframe tbody tr th:only-of-type {\n",
       "        vertical-align: middle;\n",
       "    }\n",
       "\n",
       "    .dataframe tbody tr th {\n",
       "        vertical-align: top;\n",
       "    }\n",
       "\n",
       "    .dataframe thead th {\n",
       "        text-align: right;\n",
       "    }\n",
       "</style>\n",
       "<table border=\"1\" class=\"dataframe\">\n",
       "  <thead>\n",
       "    <tr style=\"text-align: right;\">\n",
       "      <th></th>\n",
       "      <th>year</th>\n",
       "      <th>value</th>\n",
       "    </tr>\n",
       "  </thead>\n",
       "  <tbody>\n",
       "    <tr>\n",
       "      <th>1</th>\n",
       "      <td>2018/19</td>\n",
       "      <td>532.30</td>\n",
       "    </tr>\n",
       "    <tr>\n",
       "      <th>2</th>\n",
       "      <td>2018/19</td>\n",
       "      <td>532.30</td>\n",
       "    </tr>\n",
       "    <tr>\n",
       "      <th>3</th>\n",
       "      <td>2018/19</td>\n",
       "      <td>532.30</td>\n",
       "    </tr>\n",
       "    <tr>\n",
       "      <th>4</th>\n",
       "      <td>2018/19</td>\n",
       "      <td>532.31</td>\n",
       "    </tr>\n",
       "    <tr>\n",
       "      <th>5</th>\n",
       "      <td>2018/19</td>\n",
       "      <td>532.31</td>\n",
       "    </tr>\n",
       "    <tr>\n",
       "      <th>...</th>\n",
       "      <td>...</td>\n",
       "      <td>...</td>\n",
       "    </tr>\n",
       "    <tr>\n",
       "      <th>148</th>\n",
       "      <td>2021/22</td>\n",
       "      <td>513.41</td>\n",
       "    </tr>\n",
       "    <tr>\n",
       "      <th>149</th>\n",
       "      <td>2021/22</td>\n",
       "      <td>513.41</td>\n",
       "    </tr>\n",
       "    <tr>\n",
       "      <th>150</th>\n",
       "      <td>2021/22</td>\n",
       "      <td>513.41</td>\n",
       "    </tr>\n",
       "    <tr>\n",
       "      <th>151</th>\n",
       "      <td>2021/22</td>\n",
       "      <td>511.98</td>\n",
       "    </tr>\n",
       "    <tr>\n",
       "      <th>152</th>\n",
       "      <td>2021/22</td>\n",
       "      <td>511.98</td>\n",
       "    </tr>\n",
       "  </tbody>\n",
       "</table>\n",
       "<p>139 rows × 2 columns</p>\n",
       "</div>"
      ],
      "text/plain": [
       "        year   value\n",
       "1    2018/19  532.30\n",
       "2    2018/19  532.30\n",
       "3    2018/19  532.30\n",
       "4    2018/19  532.31\n",
       "5    2018/19  532.31\n",
       "..       ...     ...\n",
       "148  2021/22  513.41\n",
       "149  2021/22  513.41\n",
       "150  2021/22  513.41\n",
       "151  2021/22  511.98\n",
       "152  2021/22  511.98\n",
       "\n",
       "[139 rows x 2 columns]"
      ]
     },
     "execution_count": 27,
     "metadata": {},
     "output_type": "execute_result"
    }
   ],
   "source": [
    "data_dups_year"
   ]
  },
  {
   "cell_type": "code",
   "execution_count": 28,
   "id": "e679702d-6f32-4d0d-8838-70b0e1129c55",
   "metadata": {},
   "outputs": [
    {
     "data": {
      "text/plain": [
       "(153, 2)"
      ]
     },
     "execution_count": 28,
     "metadata": {},
     "output_type": "execute_result"
    }
   ],
   "source": [
    "df_year.shape"
   ]
  },
  {
   "cell_type": "code",
   "execution_count": 29,
   "id": "031735b7-ed6c-4f00-8101-9ff9e5076b40",
   "metadata": {},
   "outputs": [],
   "source": [
    "# Sort by 'year' and 'value' in descending order to keep the highest 'value' per year\n",
    "df_year_sorted = df_year.sort_values(by=['year', 'value'], ascending=[True, False])"
   ]
  },
  {
   "cell_type": "code",
   "execution_count": 30,
   "id": "98652b6a-937e-4543-839b-6914accc53e1",
   "metadata": {},
   "outputs": [],
   "source": [
    "# Drop duplicates based on 'year', keeping the first (highest 'value' per year)\n",
    "df_year_no_dups = df_year_sorted.drop_duplicates(subset='year', keep='first')"
   ]
  },
  {
   "cell_type": "code",
   "execution_count": 31,
   "id": "4f519fbf-1f68-4310-bf78-0375bb54b5a9",
   "metadata": {},
   "outputs": [
    {
     "data": {
      "text/plain": [
       "(14, 2)"
      ]
     },
     "execution_count": 31,
     "metadata": {},
     "output_type": "execute_result"
    }
   ],
   "source": [
    "df_year_no_dups.shape"
   ]
  },
  {
   "cell_type": "code",
   "execution_count": 32,
   "id": "836c7636-b6ff-4840-9004-5c112ce67aa9",
   "metadata": {},
   "outputs": [
    {
     "data": {
      "text/html": [
       "<div>\n",
       "<style scoped>\n",
       "    .dataframe tbody tr th:only-of-type {\n",
       "        vertical-align: middle;\n",
       "    }\n",
       "\n",
       "    .dataframe tbody tr th {\n",
       "        vertical-align: top;\n",
       "    }\n",
       "\n",
       "    .dataframe thead th {\n",
       "        text-align: right;\n",
       "    }\n",
       "</style>\n",
       "<table border=\"1\" class=\"dataframe\">\n",
       "  <thead>\n",
       "    <tr style=\"text-align: right;\">\n",
       "      <th></th>\n",
       "      <th>year</th>\n",
       "      <th>value</th>\n",
       "    </tr>\n",
       "  </thead>\n",
       "  <tbody>\n",
       "    <tr>\n",
       "      <th>111</th>\n",
       "      <td>2008/09</td>\n",
       "      <td>461.70</td>\n",
       "    </tr>\n",
       "    <tr>\n",
       "      <th>100</th>\n",
       "      <td>2009/10</td>\n",
       "      <td>488.31</td>\n",
       "    </tr>\n",
       "    <tr>\n",
       "      <th>88</th>\n",
       "      <td>2010/11</td>\n",
       "      <td>479.50</td>\n",
       "    </tr>\n",
       "    <tr>\n",
       "      <th>77</th>\n",
       "      <td>2011/12</td>\n",
       "      <td>447.82</td>\n",
       "    </tr>\n",
       "    <tr>\n",
       "      <th>74</th>\n",
       "      <td>2012/13</td>\n",
       "      <td>414.06</td>\n",
       "    </tr>\n",
       "    <tr>\n",
       "      <th>53</th>\n",
       "      <td>2013/14</td>\n",
       "      <td>484.21</td>\n",
       "    </tr>\n",
       "    <tr>\n",
       "      <th>41</th>\n",
       "      <td>2014/15</td>\n",
       "      <td>499.23</td>\n",
       "    </tr>\n",
       "    <tr>\n",
       "      <th>29</th>\n",
       "      <td>2015/16</td>\n",
       "      <td>506.00</td>\n",
       "    </tr>\n",
       "    <tr>\n",
       "      <th>21</th>\n",
       "      <td>2016/17</td>\n",
       "      <td>556.09</td>\n",
       "    </tr>\n",
       "    <tr>\n",
       "      <th>6</th>\n",
       "      <td>2017/18</td>\n",
       "      <td>541.29</td>\n",
       "    </tr>\n",
       "    <tr>\n",
       "      <th>4</th>\n",
       "      <td>2018/19</td>\n",
       "      <td>532.31</td>\n",
       "    </tr>\n",
       "    <tr>\n",
       "      <th>122</th>\n",
       "      <td>2019/20</td>\n",
       "      <td>516.32</td>\n",
       "    </tr>\n",
       "    <tr>\n",
       "      <th>133</th>\n",
       "      <td>2020/21</td>\n",
       "      <td>516.87</td>\n",
       "    </tr>\n",
       "    <tr>\n",
       "      <th>145</th>\n",
       "      <td>2021/22</td>\n",
       "      <td>513.41</td>\n",
       "    </tr>\n",
       "  </tbody>\n",
       "</table>\n",
       "</div>"
      ],
      "text/plain": [
       "        year   value\n",
       "111  2008/09  461.70\n",
       "100  2009/10  488.31\n",
       "88   2010/11  479.50\n",
       "77   2011/12  447.82\n",
       "74   2012/13  414.06\n",
       "53   2013/14  484.21\n",
       "41   2014/15  499.23\n",
       "29   2015/16  506.00\n",
       "21   2016/17  556.09\n",
       "6    2017/18  541.29\n",
       "4    2018/19  532.31\n",
       "122  2019/20  516.32\n",
       "133  2020/21  516.87\n",
       "145  2021/22  513.41"
      ]
     },
     "execution_count": 32,
     "metadata": {},
     "output_type": "execute_result"
    }
   ],
   "source": [
    "df_year_no_dups.head(17)"
   ]
  },
  {
   "cell_type": "code",
   "execution_count": 33,
   "id": "8dc3c0ec-2751-499d-aaab-945754b9e2c8",
   "metadata": {},
   "outputs": [],
   "source": [
    "# Update the 'year' column to show only the first four digits (YYYY)\n",
    "df_year_no_dups['year'] = df_year_no_dups['year'].str[:4]"
   ]
  },
  {
   "cell_type": "code",
   "execution_count": 34,
   "id": "be35b40d-3708-4a6c-87f9-0622f2e626fa",
   "metadata": {},
   "outputs": [
    {
     "data": {
      "text/html": [
       "<div>\n",
       "<style scoped>\n",
       "    .dataframe tbody tr th:only-of-type {\n",
       "        vertical-align: middle;\n",
       "    }\n",
       "\n",
       "    .dataframe tbody tr th {\n",
       "        vertical-align: top;\n",
       "    }\n",
       "\n",
       "    .dataframe thead th {\n",
       "        text-align: right;\n",
       "    }\n",
       "</style>\n",
       "<table border=\"1\" class=\"dataframe\">\n",
       "  <thead>\n",
       "    <tr style=\"text-align: right;\">\n",
       "      <th></th>\n",
       "      <th>year</th>\n",
       "      <th>value</th>\n",
       "    </tr>\n",
       "  </thead>\n",
       "  <tbody>\n",
       "    <tr>\n",
       "      <th>111</th>\n",
       "      <td>2008</td>\n",
       "      <td>461.70</td>\n",
       "    </tr>\n",
       "    <tr>\n",
       "      <th>100</th>\n",
       "      <td>2009</td>\n",
       "      <td>488.31</td>\n",
       "    </tr>\n",
       "    <tr>\n",
       "      <th>88</th>\n",
       "      <td>2010</td>\n",
       "      <td>479.50</td>\n",
       "    </tr>\n",
       "    <tr>\n",
       "      <th>77</th>\n",
       "      <td>2011</td>\n",
       "      <td>447.82</td>\n",
       "    </tr>\n",
       "    <tr>\n",
       "      <th>74</th>\n",
       "      <td>2012</td>\n",
       "      <td>414.06</td>\n",
       "    </tr>\n",
       "    <tr>\n",
       "      <th>53</th>\n",
       "      <td>2013</td>\n",
       "      <td>484.21</td>\n",
       "    </tr>\n",
       "    <tr>\n",
       "      <th>41</th>\n",
       "      <td>2014</td>\n",
       "      <td>499.23</td>\n",
       "    </tr>\n",
       "    <tr>\n",
       "      <th>29</th>\n",
       "      <td>2015</td>\n",
       "      <td>506.00</td>\n",
       "    </tr>\n",
       "    <tr>\n",
       "      <th>21</th>\n",
       "      <td>2016</td>\n",
       "      <td>556.09</td>\n",
       "    </tr>\n",
       "    <tr>\n",
       "      <th>6</th>\n",
       "      <td>2017</td>\n",
       "      <td>541.29</td>\n",
       "    </tr>\n",
       "    <tr>\n",
       "      <th>4</th>\n",
       "      <td>2018</td>\n",
       "      <td>532.31</td>\n",
       "    </tr>\n",
       "    <tr>\n",
       "      <th>122</th>\n",
       "      <td>2019</td>\n",
       "      <td>516.32</td>\n",
       "    </tr>\n",
       "    <tr>\n",
       "      <th>133</th>\n",
       "      <td>2020</td>\n",
       "      <td>516.87</td>\n",
       "    </tr>\n",
       "    <tr>\n",
       "      <th>145</th>\n",
       "      <td>2021</td>\n",
       "      <td>513.41</td>\n",
       "    </tr>\n",
       "  </tbody>\n",
       "</table>\n",
       "</div>"
      ],
      "text/plain": [
       "     year   value\n",
       "111  2008  461.70\n",
       "100  2009  488.31\n",
       "88   2010  479.50\n",
       "77   2011  447.82\n",
       "74   2012  414.06\n",
       "53   2013  484.21\n",
       "41   2014  499.23\n",
       "29   2015  506.00\n",
       "21   2016  556.09\n",
       "6    2017  541.29\n",
       "4    2018  532.31\n",
       "122  2019  516.32\n",
       "133  2020  516.87\n",
       "145  2021  513.41"
      ]
     },
     "execution_count": 34,
     "metadata": {},
     "output_type": "execute_result"
    }
   ],
   "source": [
    "df_year_no_dups.head(17)"
   ]
  },
  {
   "cell_type": "code",
   "execution_count": 35,
   "id": "684bb100-c61e-4917-84ce-597f6cf364e1",
   "metadata": {},
   "outputs": [
    {
     "data": {
      "text/plain": [
       "year     0\n",
       "value    0\n",
       "dtype: int64"
      ]
     },
     "execution_count": 35,
     "metadata": {},
     "output_type": "execute_result"
    }
   ],
   "source": [
    "# check for missing values in updated subset\n",
    "df_year_no_dups.isnull().sum()"
   ]
  },
  {
   "cell_type": "markdown",
   "id": "200e1a87-d3b5-411a-99f9-4fe58f1ec2c3",
   "metadata": {},
   "source": [
    "139 duplicates have been removed from the df_year subset. I will plot both subsets to see which one gives a more accurate time-series graph."
   ]
  },
  {
   "cell_type": "markdown",
   "id": "3ebca4a9-82b1-441e-9d43-759de1435c2b",
   "metadata": {},
   "source": [
    "### Index Reset"
   ]
  },
  {
   "cell_type": "code",
   "execution_count": 62,
   "id": "500a96de-1ee6-4c5c-b4ec-6155037505ed",
   "metadata": {},
   "outputs": [],
   "source": [
    "# Reset index so that you can use the \"report_month\" column as a filter\n",
    "\n",
    "df_month = df_month.reset_index()"
   ]
  },
  {
   "cell_type": "code",
   "execution_count": 64,
   "id": "b26ca0b0-d61d-42aa-b3b5-0b93d71f346c",
   "metadata": {},
   "outputs": [
    {
     "data": {
      "text/html": [
       "<div>\n",
       "<style scoped>\n",
       "    .dataframe tbody tr th:only-of-type {\n",
       "        vertical-align: middle;\n",
       "    }\n",
       "\n",
       "    .dataframe tbody tr th {\n",
       "        vertical-align: top;\n",
       "    }\n",
       "\n",
       "    .dataframe thead th {\n",
       "        text-align: right;\n",
       "    }\n",
       "</style>\n",
       "<table border=\"1\" class=\"dataframe\">\n",
       "  <thead>\n",
       "    <tr style=\"text-align: right;\">\n",
       "      <th></th>\n",
       "      <th>index</th>\n",
       "      <th>report_month</th>\n",
       "      <th>value</th>\n",
       "    </tr>\n",
       "  </thead>\n",
       "  <tbody>\n",
       "    <tr>\n",
       "      <th>0</th>\n",
       "      <td>0</td>\n",
       "      <td>2020-10</td>\n",
       "      <td>532.30</td>\n",
       "    </tr>\n",
       "    <tr>\n",
       "      <th>1</th>\n",
       "      <td>1</td>\n",
       "      <td>2020-09</td>\n",
       "      <td>532.30</td>\n",
       "    </tr>\n",
       "    <tr>\n",
       "      <th>2</th>\n",
       "      <td>2</td>\n",
       "      <td>2020-08</td>\n",
       "      <td>532.30</td>\n",
       "    </tr>\n",
       "    <tr>\n",
       "      <th>3</th>\n",
       "      <td>3</td>\n",
       "      <td>2020-07</td>\n",
       "      <td>532.30</td>\n",
       "    </tr>\n",
       "    <tr>\n",
       "      <th>4</th>\n",
       "      <td>4</td>\n",
       "      <td>2020-06</td>\n",
       "      <td>532.31</td>\n",
       "    </tr>\n",
       "  </tbody>\n",
       "</table>\n",
       "</div>"
      ],
      "text/plain": [
       "   index report_month   value\n",
       "0      0      2020-10  532.30\n",
       "1      1      2020-09  532.30\n",
       "2      2      2020-08  532.30\n",
       "3      3      2020-07  532.30\n",
       "4      4      2020-06  532.31"
      ]
     },
     "execution_count": 64,
     "metadata": {},
     "output_type": "execute_result"
    }
   ],
   "source": [
    "df_month.head()"
   ]
  },
  {
   "cell_type": "code",
   "execution_count": 66,
   "id": "8e8824ea-f9e1-4434-8c1e-7aeb0ed2ab1c",
   "metadata": {},
   "outputs": [
    {
     "data": {
      "text/html": [
       "<div>\n",
       "<style scoped>\n",
       "    .dataframe tbody tr th:only-of-type {\n",
       "        vertical-align: middle;\n",
       "    }\n",
       "\n",
       "    .dataframe tbody tr th {\n",
       "        vertical-align: top;\n",
       "    }\n",
       "\n",
       "    .dataframe thead th {\n",
       "        text-align: right;\n",
       "    }\n",
       "</style>\n",
       "<table border=\"1\" class=\"dataframe\">\n",
       "  <thead>\n",
       "    <tr style=\"text-align: right;\">\n",
       "      <th></th>\n",
       "      <th>index</th>\n",
       "      <th>value</th>\n",
       "    </tr>\n",
       "    <tr>\n",
       "      <th>datetime</th>\n",
       "      <th></th>\n",
       "      <th></th>\n",
       "    </tr>\n",
       "  </thead>\n",
       "  <tbody>\n",
       "    <tr>\n",
       "      <th>2020-10-01</th>\n",
       "      <td>0</td>\n",
       "      <td>532.30</td>\n",
       "    </tr>\n",
       "    <tr>\n",
       "      <th>2020-09-01</th>\n",
       "      <td>1</td>\n",
       "      <td>532.30</td>\n",
       "    </tr>\n",
       "    <tr>\n",
       "      <th>2020-08-01</th>\n",
       "      <td>2</td>\n",
       "      <td>532.30</td>\n",
       "    </tr>\n",
       "    <tr>\n",
       "      <th>2020-07-01</th>\n",
       "      <td>3</td>\n",
       "      <td>532.30</td>\n",
       "    </tr>\n",
       "    <tr>\n",
       "      <th>2020-06-01</th>\n",
       "      <td>4</td>\n",
       "      <td>532.31</td>\n",
       "    </tr>\n",
       "  </tbody>\n",
       "</table>\n",
       "</div>"
      ],
      "text/plain": [
       "            index   value\n",
       "datetime                 \n",
       "2020-10-01      0  532.30\n",
       "2020-09-01      1  532.30\n",
       "2020-08-01      2  532.30\n",
       "2020-07-01      3  532.30\n",
       "2020-06-01      4  532.31"
      ]
     },
     "execution_count": 66,
     "metadata": {},
     "output_type": "execute_result"
    }
   ],
   "source": [
    "# Set the \"report_month\" column as the index for the df_month subset\n",
    "\n",
    "from datetime import datetime\n",
    "\n",
    "df_month['datetime'] = pd.to_datetime(df_month['report_month']) # Create a datetime column from \"report_month\"\n",
    "df_month = df_month.set_index('datetime') # Set the datetime as the index of the dataframe.\n",
    "df_month.drop(['report_month'], axis=1, inplace=True) # Drop the \"report_month\" column.\n",
    "df_month.head()"
   ]
  },
  {
   "cell_type": "code",
   "execution_count": 70,
   "id": "ecf42ab5-7883-4622-9864-86f9fba41486",
   "metadata": {},
   "outputs": [],
   "source": [
    "# sort the date in ascending order\n",
    "\n",
    "df_month.sort_index(ascending=True, inplace=True)"
   ]
  },
  {
   "cell_type": "code",
   "execution_count": 72,
   "id": "32818069-7a5e-4999-870e-66b241e66f0a",
   "metadata": {},
   "outputs": [
    {
     "data": {
      "text/html": [
       "<div>\n",
       "<style scoped>\n",
       "    .dataframe tbody tr th:only-of-type {\n",
       "        vertical-align: middle;\n",
       "    }\n",
       "\n",
       "    .dataframe tbody tr th {\n",
       "        vertical-align: top;\n",
       "    }\n",
       "\n",
       "    .dataframe thead th {\n",
       "        text-align: right;\n",
       "    }\n",
       "</style>\n",
       "<table border=\"1\" class=\"dataframe\">\n",
       "  <thead>\n",
       "    <tr style=\"text-align: right;\">\n",
       "      <th></th>\n",
       "      <th>index</th>\n",
       "      <th>value</th>\n",
       "    </tr>\n",
       "    <tr>\n",
       "      <th>datetime</th>\n",
       "      <th></th>\n",
       "      <th></th>\n",
       "    </tr>\n",
       "  </thead>\n",
       "  <tbody>\n",
       "    <tr>\n",
       "      <th>2011-01-01</th>\n",
       "      <td>114</td>\n",
       "      <td>461.70</td>\n",
       "    </tr>\n",
       "    <tr>\n",
       "      <th>2011-02-01</th>\n",
       "      <td>113</td>\n",
       "      <td>461.70</td>\n",
       "    </tr>\n",
       "    <tr>\n",
       "      <th>2011-03-01</th>\n",
       "      <td>112</td>\n",
       "      <td>461.70</td>\n",
       "    </tr>\n",
       "    <tr>\n",
       "      <th>2011-04-01</th>\n",
       "      <td>111</td>\n",
       "      <td>461.70</td>\n",
       "    </tr>\n",
       "    <tr>\n",
       "      <th>2011-05-01</th>\n",
       "      <td>116</td>\n",
       "      <td>488.31</td>\n",
       "    </tr>\n",
       "  </tbody>\n",
       "</table>\n",
       "</div>"
      ],
      "text/plain": [
       "            index   value\n",
       "datetime                 \n",
       "2011-01-01    114  461.70\n",
       "2011-02-01    113  461.70\n",
       "2011-03-01    112  461.70\n",
       "2011-04-01    111  461.70\n",
       "2011-05-01    116  488.31"
      ]
     },
     "execution_count": 72,
     "metadata": {},
     "output_type": "execute_result"
    }
   ],
   "source": [
    "df_month.head()"
   ]
  },
  {
   "cell_type": "code",
   "execution_count": 63,
   "id": "f331f81c-fe4b-4ed0-b071-09a424f8b817",
   "metadata": {},
   "outputs": [],
   "source": [
    "# Reset index so that you can use the \"year\" column as a filter\n",
    "\n",
    "df_year_no_dups = df_year_no_dups.reset_index()"
   ]
  },
  {
   "cell_type": "code",
   "execution_count": 74,
   "id": "6990afc5-07c0-4f71-a66f-ef062a5eefb1",
   "metadata": {},
   "outputs": [
    {
     "data": {
      "text/html": [
       "<div>\n",
       "<style scoped>\n",
       "    .dataframe tbody tr th:only-of-type {\n",
       "        vertical-align: middle;\n",
       "    }\n",
       "\n",
       "    .dataframe tbody tr th {\n",
       "        vertical-align: top;\n",
       "    }\n",
       "\n",
       "    .dataframe thead th {\n",
       "        text-align: right;\n",
       "    }\n",
       "</style>\n",
       "<table border=\"1\" class=\"dataframe\">\n",
       "  <thead>\n",
       "    <tr style=\"text-align: right;\">\n",
       "      <th></th>\n",
       "      <th>index</th>\n",
       "      <th>year</th>\n",
       "      <th>value</th>\n",
       "    </tr>\n",
       "  </thead>\n",
       "  <tbody>\n",
       "    <tr>\n",
       "      <th>0</th>\n",
       "      <td>111</td>\n",
       "      <td>2008</td>\n",
       "      <td>461.70</td>\n",
       "    </tr>\n",
       "    <tr>\n",
       "      <th>1</th>\n",
       "      <td>100</td>\n",
       "      <td>2009</td>\n",
       "      <td>488.31</td>\n",
       "    </tr>\n",
       "    <tr>\n",
       "      <th>2</th>\n",
       "      <td>88</td>\n",
       "      <td>2010</td>\n",
       "      <td>479.50</td>\n",
       "    </tr>\n",
       "    <tr>\n",
       "      <th>3</th>\n",
       "      <td>77</td>\n",
       "      <td>2011</td>\n",
       "      <td>447.82</td>\n",
       "    </tr>\n",
       "    <tr>\n",
       "      <th>4</th>\n",
       "      <td>74</td>\n",
       "      <td>2012</td>\n",
       "      <td>414.06</td>\n",
       "    </tr>\n",
       "  </tbody>\n",
       "</table>\n",
       "</div>"
      ],
      "text/plain": [
       "   index  year   value\n",
       "0    111  2008  461.70\n",
       "1    100  2009  488.31\n",
       "2     88  2010  479.50\n",
       "3     77  2011  447.82\n",
       "4     74  2012  414.06"
      ]
     },
     "execution_count": 74,
     "metadata": {},
     "output_type": "execute_result"
    }
   ],
   "source": [
    "df_year_no_dups.head()"
   ]
  },
  {
   "cell_type": "code",
   "execution_count": 76,
   "id": "5409d624-6b91-4e88-892b-e9b12bd6968a",
   "metadata": {},
   "outputs": [
    {
     "data": {
      "text/html": [
       "<div>\n",
       "<style scoped>\n",
       "    .dataframe tbody tr th:only-of-type {\n",
       "        vertical-align: middle;\n",
       "    }\n",
       "\n",
       "    .dataframe tbody tr th {\n",
       "        vertical-align: top;\n",
       "    }\n",
       "\n",
       "    .dataframe thead th {\n",
       "        text-align: right;\n",
       "    }\n",
       "</style>\n",
       "<table border=\"1\" class=\"dataframe\">\n",
       "  <thead>\n",
       "    <tr style=\"text-align: right;\">\n",
       "      <th></th>\n",
       "      <th>value</th>\n",
       "    </tr>\n",
       "    <tr>\n",
       "      <th>datetime</th>\n",
       "      <th></th>\n",
       "    </tr>\n",
       "  </thead>\n",
       "  <tbody>\n",
       "    <tr>\n",
       "      <th>2008-01-01</th>\n",
       "      <td>461.70</td>\n",
       "    </tr>\n",
       "    <tr>\n",
       "      <th>2009-01-01</th>\n",
       "      <td>488.31</td>\n",
       "    </tr>\n",
       "    <tr>\n",
       "      <th>2010-01-01</th>\n",
       "      <td>479.50</td>\n",
       "    </tr>\n",
       "    <tr>\n",
       "      <th>2011-01-01</th>\n",
       "      <td>447.82</td>\n",
       "    </tr>\n",
       "    <tr>\n",
       "      <th>2012-01-01</th>\n",
       "      <td>414.06</td>\n",
       "    </tr>\n",
       "  </tbody>\n",
       "</table>\n",
       "</div>"
      ],
      "text/plain": [
       "             value\n",
       "datetime          \n",
       "2008-01-01  461.70\n",
       "2009-01-01  488.31\n",
       "2010-01-01  479.50\n",
       "2011-01-01  447.82\n",
       "2012-01-01  414.06"
      ]
     },
     "execution_count": 76,
     "metadata": {},
     "output_type": "execute_result"
    }
   ],
   "source": [
    "# Set the \"year\" column as the index for the df_year_no_dups subset\n",
    "\n",
    "from datetime import datetime\n",
    "\n",
    "df_year_no_dups['datetime'] = pd.to_datetime(df_year_no_dups['year']) # Create a datetime column from \"year\"\n",
    "df_year_no_dups = df_year_no_dups.set_index('datetime') # Set the datetime as the index of the dataframe.\n",
    "df_year_no_dups.drop(['year'], axis=1, inplace=True) # Drop the \"year\" column.\n",
    "df_year_no_dups.head()"
   ]
  },
  {
   "cell_type": "markdown",
   "id": "6344f447-aa42-427c-b9c2-77997e2cfe7a",
   "metadata": {},
   "source": [
    "I have created two subsets to view on a line chart. One is based on month and the other is based on year."
   ]
  },
  {
   "cell_type": "markdown",
   "id": "1474cd79-3232-4cf9-b427-45629364bbee",
   "metadata": {},
   "source": [
    "## 3. Line Chart"
   ]
  },
  {
   "cell_type": "markdown",
   "id": "902b2a11-a651-4951-95e3-474f888a58c7",
   "metadata": {},
   "source": [
    "### df_month chart"
   ]
  },
  {
   "cell_type": "code",
   "execution_count": 81,
   "id": "d8f17538-3086-42f0-8e26-cfcdd9446b83",
   "metadata": {},
   "outputs": [
    {
     "data": {
      "image/png": "[encoded data removed]",
      "text/plain": [
       "<Figure size 1500x500 with 1 Axes>"
      ]
     },
     "metadata": {},
     "output_type": "display_data"
    }
   ],
   "source": [
    "# plot the data set\n",
    "\n",
    "# Plot the dataset with datetime index as the x-axis\n",
    "plt.figure(figsize=(15, 5), dpi=100)\n",
    "plt.plot(df_month['value'])  # Only pass the y-axis data since the index is used as x-axis\n",
    "plt.xlabel('Month - Year')  \n",
    "plt.ylabel('Crop Production Value')\n",
    "plt.title('Crop Production over the Years')\n",
    "plt.show()"
   ]
  },
  {
   "cell_type": "markdown",
   "id": "6c961f58-bd99-4061-8418-6965fd84c4c9",
   "metadata": {},
   "source": [
    "### df_year_no_dups chart"
   ]
  },
  {
   "cell_type": "code",
   "execution_count": 84,
   "id": "11af0f83-c313-4011-badd-d700866c12b5",
   "metadata": {},
   "outputs": [
    {
     "data": {
      "image/png": "[encoded data removed]",
      "text/plain": [
       "<Figure size 1500x500 with 1 Axes>"
      ]
     },
     "metadata": {},
     "output_type": "display_data"
    }
   ],
   "source": [
    "# plot the data set\n",
    "\n",
    "# Plot the dataset with datetime index as the x-axis\n",
    "plt.figure(figsize=(15, 5), dpi=100)\n",
    "plt.plot(df_year_no_dups['value'])  # Only pass the y-axis data since the index is used as x-axis\n",
    "plt.xlabel('Year')  \n",
    "plt.ylabel('Crop Production Value')\n",
    "plt.title('Crop Production over the Years')\n",
    "plt.show()"
   ]
  },
  {
   "cell_type": "markdown",
   "id": "1d7374ae-7df7-4728-b19e-1a3ff616feba",
   "metadata": {},
   "source": [
    "I have decided to more forward with the df_year_no_dups subset as it presents a more clear visual of the crop production over the years. Both graphs have similar trends, but the monthly graph still includes the duplicates leading to a possibly more inaccurate representation month over month.\n",
    "\n",
    "By looking at the data more closely, the 'report_month' and 'period' columns do not match up. I am taking this as there is a lag in when the totals were reported, and feel the 'annual' column is more accurate to go with."
   ]
  },
  {
   "cell_type": "code",
   "execution_count": 87,
   "id": "7f3612b1-b981-41db-afb9-7324d634b967",
   "metadata": {},
   "outputs": [
    {
     "data": {
      "text/plain": [
       "value    0\n",
       "dtype: int64"
      ]
     },
     "execution_count": 87,
     "metadata": {},
     "output_type": "execute_result"
    }
   ],
   "source": [
    "# Check for missing values\n",
    "\n",
    "df_year_no_dups.isnull().sum() "
   ]
  },
  {
   "cell_type": "code",
   "execution_count": 89,
   "id": "2fb9df73-23a0-40f1-95f8-d52428466a72",
   "metadata": {},
   "outputs": [
    {
     "data": {
      "text/plain": [
       "0"
      ]
     },
     "execution_count": 89,
     "metadata": {},
     "output_type": "execute_result"
    }
   ],
   "source": [
    "# Check for duplicates\n",
    "\n",
    "dups = df_year_no_dups.duplicated()\n",
    "dups.sum()\n",
    "\n",
    "# No dups!"
   ]
  },
  {
   "cell_type": "markdown",
   "id": "3cb6dec5-cf75-4f51-be94-18f8732054a3",
   "metadata": {},
   "source": [
    "## 4. Decompose the data"
   ]
  },
  {
   "cell_type": "code",
   "execution_count": 94,
   "id": "1643da9d-104b-4519-85e0-90371141d80a",
   "metadata": {},
   "outputs": [],
   "source": [
    "# Convert the 'datetime' index to the end of each year\n",
    "df_year_no_dups.index = pd.to_datetime(df_year_no_dups.index).to_period('Y').end_time.normalize()"
   ]
  },
  {
   "cell_type": "code",
   "execution_count": 96,
   "id": "ab77e9f0-5671-4bc8-8537-c00fcfd1175f",
   "metadata": {},
   "outputs": [
    {
     "data": {
      "text/html": [
       "<div>\n",
       "<style scoped>\n",
       "    .dataframe tbody tr th:only-of-type {\n",
       "        vertical-align: middle;\n",
       "    }\n",
       "\n",
       "    .dataframe tbody tr th {\n",
       "        vertical-align: top;\n",
       "    }\n",
       "\n",
       "    .dataframe thead th {\n",
       "        text-align: right;\n",
       "    }\n",
       "</style>\n",
       "<table border=\"1\" class=\"dataframe\">\n",
       "  <thead>\n",
       "    <tr style=\"text-align: right;\">\n",
       "      <th></th>\n",
       "      <th>value</th>\n",
       "    </tr>\n",
       "    <tr>\n",
       "      <th>datetime</th>\n",
       "      <th></th>\n",
       "    </tr>\n",
       "  </thead>\n",
       "  <tbody>\n",
       "    <tr>\n",
       "      <th>2008-12-31</th>\n",
       "      <td>461.70</td>\n",
       "    </tr>\n",
       "    <tr>\n",
       "      <th>2009-12-31</th>\n",
       "      <td>488.31</td>\n",
       "    </tr>\n",
       "    <tr>\n",
       "      <th>2010-12-31</th>\n",
       "      <td>479.50</td>\n",
       "    </tr>\n",
       "    <tr>\n",
       "      <th>2011-12-31</th>\n",
       "      <td>447.82</td>\n",
       "    </tr>\n",
       "    <tr>\n",
       "      <th>2012-12-31</th>\n",
       "      <td>414.06</td>\n",
       "    </tr>\n",
       "    <tr>\n",
       "      <th>2013-12-31</th>\n",
       "      <td>484.21</td>\n",
       "    </tr>\n",
       "    <tr>\n",
       "      <th>2014-12-31</th>\n",
       "      <td>499.23</td>\n",
       "    </tr>\n",
       "    <tr>\n",
       "      <th>2015-12-31</th>\n",
       "      <td>506.00</td>\n",
       "    </tr>\n",
       "    <tr>\n",
       "      <th>2016-12-31</th>\n",
       "      <td>556.09</td>\n",
       "    </tr>\n",
       "    <tr>\n",
       "      <th>2017-12-31</th>\n",
       "      <td>541.29</td>\n",
       "    </tr>\n",
       "    <tr>\n",
       "      <th>2018-12-31</th>\n",
       "      <td>532.31</td>\n",
       "    </tr>\n",
       "    <tr>\n",
       "      <th>2019-12-31</th>\n",
       "      <td>516.32</td>\n",
       "    </tr>\n",
       "    <tr>\n",
       "      <th>2020-12-31</th>\n",
       "      <td>516.87</td>\n",
       "    </tr>\n",
       "    <tr>\n",
       "      <th>2021-12-31</th>\n",
       "      <td>513.41</td>\n",
       "    </tr>\n",
       "  </tbody>\n",
       "</table>\n",
       "</div>"
      ],
      "text/plain": [
       "             value\n",
       "datetime          \n",
       "2008-12-31  461.70\n",
       "2009-12-31  488.31\n",
       "2010-12-31  479.50\n",
       "2011-12-31  447.82\n",
       "2012-12-31  414.06\n",
       "2013-12-31  484.21\n",
       "2014-12-31  499.23\n",
       "2015-12-31  506.00\n",
       "2016-12-31  556.09\n",
       "2017-12-31  541.29\n",
       "2018-12-31  532.31\n",
       "2019-12-31  516.32\n",
       "2020-12-31  516.87\n",
       "2021-12-31  513.41"
      ]
     },
     "execution_count": 96,
     "metadata": {},
     "output_type": "execute_result"
    }
   ],
   "source": [
    "df_year_no_dups.head(20)"
   ]
  },
  {
   "cell_type": "code",
   "execution_count": 100,
   "id": "ce8633c8-1b04-43ff-8430-27077a249d75",
   "metadata": {},
   "outputs": [],
   "source": [
    "# Set the frequency to yearly ('Y')\n",
    "df_year_no_dups = df_year_no_dups.asfreq('Y')"
   ]
  },
  {
   "cell_type": "code",
   "execution_count": 104,
   "id": "06e47e54-a741-4381-9c19-3d105b7432f9",
   "metadata": {},
   "outputs": [],
   "source": [
    "# Decompose the time series using an additive model\n",
    "\n",
    "decomposition = sm.tsa.seasonal_decompose(df_year_no_dups['value'], model='additive', period=1)"
   ]
  },
  {
   "cell_type": "code",
   "execution_count": 106,
   "id": "9bb2b6b9-eaa9-439e-80eb-6ae2532b956f",
   "metadata": {},
   "outputs": [],
   "source": [
    "from pylab import rcParams # This will define a fixed size for all special charts.\n",
    "\n",
    "rcParams['figure.figsize'] = 18, 7"
   ]
  },
  {
   "cell_type": "code",
   "execution_count": 108,
   "id": "274b5f2b-d853-4b8f-be6e-b9d30a46848f",
   "metadata": {},
   "outputs": [
    {
     "data": {
      "image/png": "[encoded data removed]",
      "text/plain": [
       "<Figure size 1800x700 with 4 Axes>"
      ]
     },
     "metadata": {},
     "output_type": "display_data"
    }
   ],
   "source": [
    "# Plot the separate components\n",
    "\n",
    "decomposition.plot()\n",
    "plt.show()"
   ]
  },
  {
   "cell_type": "markdown",
   "id": "d2049616-b506-4638-a42e-8515015a5ae6",
   "metadata": {},
   "source": [
    "## 6. Conduct a Dickey_Fuller test"
   ]
  },
  {
   "cell_type": "code",
   "execution_count": 113,
   "id": "9bf7acd4-486f-4aac-ac38-7fa9fd23f15b",
   "metadata": {},
   "outputs": [
    {
     "name": "stdout",
     "output_type": "stream",
     "text": [
      "Dickey-Fuller Stationarity test:\n",
      "Test Statistic                 -1.349459\n",
      "p-value                         0.606252\n",
      "Number of Lags Used             3.000000\n",
      "Number of Observations Used    10.000000\n",
      "Critical Value (1%)            -4.331573\n",
      "Critical Value (5%)            -3.232950\n",
      "Critical Value (10%)           -2.748700\n",
      "dtype: float64\n"
     ]
    }
   ],
   "source": [
    "# The adfuller() function will import from the model from statsmodels for the test; however, running it will only return \n",
    "# an array of numbers. This is why you need to also define a function that prints the correct output from that array.\n",
    "\n",
    "from statsmodels.tsa.stattools import adfuller # Import the adfuller() function\n",
    "\n",
    "def dickey_fuller(timeseries): # Define the function\n",
    "    # Perform the Dickey-Fuller test:\n",
    "    print ('Dickey-Fuller Stationarity test:')\n",
    "    test = adfuller(timeseries, autolag='AIC')\n",
    "    result = pd.Series(test[0:4], index=['Test Statistic','p-value','Number of Lags Used','Number of Observations Used'])\n",
    "    for key,value in test[4].items():\n",
    "       result['Critical Value (%s)'%key] = value\n",
    "    print (result)\n",
    "\n",
    "# Apply the test using the function on the time series\n",
    "dickey_fuller(df_year_no_dups['value'])"
   ]
  },
  {
   "cell_type": "markdown",
   "id": "22ab87c0-7b4f-4e27-a835-8b29bbd45bba",
   "metadata": {},
   "source": [
    "### Interpretation"
   ]
  },
  {
   "cell_type": "markdown",
   "id": "0da36f6e-0793-47e8-900d-6eaa79cb2af3",
   "metadata": {},
   "source": [
    "**Test Statistic: -1.349**\n",
    "- This value is compared against the critical values at different significance levels (1%, 5%, 10%) to determine if the data is stationary. The test statistic value is not more negative than any of the critical values and supports the conclusion that the data is non-stationary and we can't reject the null hypothesis. This means the time-series has trends or seasonality.\n",
    "\n",
    "**p-value: 0.606**\n",
    "- The p-value represents the probability of observing the test statistic under the null hypothesis. Since it is greater then 0.05 we fail to reject the null hypothesis, suggesting the series is not stationary."
   ]
  },
  {
   "cell_type": "markdown",
   "id": "22e6149f-9b78-41b8-983d-5d48c3d16e5c",
   "metadata": {},
   "source": [
    "### Autocorrelations"
   ]
  },
  {
   "cell_type": "code",
   "execution_count": 118,
   "id": "67e95bcb-9ece-46db-a69a-09ad423ed62a",
   "metadata": {},
   "outputs": [
    {
     "data": {
      "image/png": "[encoded data removed]",
      "text/plain": [
       "<Figure size 1800x700 with 1 Axes>"
      ]
     },
     "metadata": {},
     "output_type": "display_data"
    }
   ],
   "source": [
    "# Check out a plot of autocorrelations\n",
    "\n",
    "from statsmodels.graphics.tsaplots import plot_acf, plot_pacf # Here, you import the autocorrelation and partial correlation plots\n",
    "\n",
    "plot_acf(df_year_no_dups)\n",
    "plt.show()"
   ]
  },
  {
   "cell_type": "markdown",
   "id": "ba92ddbf-d7de-480f-946a-67011af880ee",
   "metadata": {},
   "source": [
    "#### Interpretation"
   ]
  },
  {
   "cell_type": "markdown",
   "id": "4ae6b816-a609-4516-9077-494dfa744eb6",
   "metadata": {},
   "source": [
    "We have already determined the time-series is non-stationary, but since only a few  lags exceed the confidence level the series does not exhibit strong autocorrelation. This can imply that the time-series is less likely to have strong seasonal patterns."
   ]
  },
  {
   "cell_type": "markdown",
   "id": "9a39a23e-744f-4efb-be17-b08ceaa24d19",
   "metadata": {},
   "source": [
    "## 6. Stationarizing the US Grain Supply data"
   ]
  },
  {
   "cell_type": "code",
   "execution_count": 128,
   "id": "084436b6-b19a-4e6b-82ba-b3c1906a45a5",
   "metadata": {},
   "outputs": [],
   "source": [
    "data_diff = df_year_no_dups - df_year_no_dups.shift(1) # The df.shift(1) function turns the observation to t-1, making the whole thing t - (t -1)"
   ]
  },
  {
   "cell_type": "code",
   "execution_count": 130,
   "id": "1b80189b-caf0-4923-b521-2a5fd1722222",
   "metadata": {},
   "outputs": [],
   "source": [
    "data_diff.dropna(inplace = True) # Here, you remove the missing values that came about as a result of the differencing. \n",
    "# You need to remove these or you won't be able to run the Dickey-Fuller test."
   ]
  },
  {
   "cell_type": "code",
   "execution_count": 132,
   "id": "87832d89-3df2-4b7f-a21f-b47e76d34dc9",
   "metadata": {},
   "outputs": [
    {
     "data": {
      "text/html": [
       "<div>\n",
       "<style scoped>\n",
       "    .dataframe tbody tr th:only-of-type {\n",
       "        vertical-align: middle;\n",
       "    }\n",
       "\n",
       "    .dataframe tbody tr th {\n",
       "        vertical-align: top;\n",
       "    }\n",
       "\n",
       "    .dataframe thead th {\n",
       "        text-align: right;\n",
       "    }\n",
       "</style>\n",
       "<table border=\"1\" class=\"dataframe\">\n",
       "  <thead>\n",
       "    <tr style=\"text-align: right;\">\n",
       "      <th></th>\n",
       "      <th>value</th>\n",
       "    </tr>\n",
       "    <tr>\n",
       "      <th>datetime</th>\n",
       "      <th></th>\n",
       "    </tr>\n",
       "  </thead>\n",
       "  <tbody>\n",
       "    <tr>\n",
       "      <th>2009-12-31</th>\n",
       "      <td>26.61</td>\n",
       "    </tr>\n",
       "    <tr>\n",
       "      <th>2010-12-31</th>\n",
       "      <td>-8.81</td>\n",
       "    </tr>\n",
       "    <tr>\n",
       "      <th>2011-12-31</th>\n",
       "      <td>-31.68</td>\n",
       "    </tr>\n",
       "    <tr>\n",
       "      <th>2012-12-31</th>\n",
       "      <td>-33.76</td>\n",
       "    </tr>\n",
       "    <tr>\n",
       "      <th>2013-12-31</th>\n",
       "      <td>70.15</td>\n",
       "    </tr>\n",
       "  </tbody>\n",
       "</table>\n",
       "</div>"
      ],
      "text/plain": [
       "            value\n",
       "datetime         \n",
       "2009-12-31  26.61\n",
       "2010-12-31  -8.81\n",
       "2011-12-31 -31.68\n",
       "2012-12-31 -33.76\n",
       "2013-12-31  70.15"
      ]
     },
     "execution_count": 132,
     "metadata": {},
     "output_type": "execute_result"
    }
   ],
   "source": [
    "data_diff.head()"
   ]
  },
  {
   "cell_type": "code",
   "execution_count": 134,
   "id": "a784e602-9271-4eed-b793-a0c2033f2d3a",
   "metadata": {},
   "outputs": [
    {
     "data": {
      "text/plain": [
       "Index(['value'], dtype='object')"
      ]
     },
     "execution_count": 134,
     "metadata": {},
     "output_type": "execute_result"
    }
   ],
   "source": [
    "data_diff.columns"
   ]
  },
  {
   "cell_type": "code",
   "execution_count": 136,
   "id": "0d88c510-f2fd-4de6-b796-d0d6c3563ec8",
   "metadata": {},
   "outputs": [
    {
     "data": {
      "text/plain": [
       "[<matplotlib.lines.Line2D at 0x136ec18dd10>]"
      ]
     },
     "execution_count": 136,
     "metadata": {},
     "output_type": "execute_result"
    },
    {
     "data": {
      "image/png": "[encoded data removed]",
      "text/plain": [
       "<Figure size 1500x500 with 1 Axes>"
      ]
     },
     "metadata": {},
     "output_type": "display_data"
    }
   ],
   "source": [
    "# Check out what the differencing did to the time-series curve\n",
    "\n",
    "plt.figure(figsize=(15,5), dpi=100)\n",
    "plt.plot(data_diff)"
   ]
  },
  {
   "cell_type": "code",
   "execution_count": 138,
   "id": "54a737dd-7108-4832-8001-eb1906caeadb",
   "metadata": {},
   "outputs": [
    {
     "name": "stdout",
     "output_type": "stream",
     "text": [
      "Dickey-Fuller Stationarity test:\n",
      "Test Statistic                 -3.341970\n",
      "p-value                         0.013104\n",
      "Number of Lags Used             0.000000\n",
      "Number of Observations Used    12.000000\n",
      "Critical Value (1%)            -4.137829\n",
      "Critical Value (5%)            -3.154972\n",
      "Critical Value (10%)           -2.714477\n",
      "dtype: float64\n"
     ]
    }
   ],
   "source": [
    "dickey_fuller(data_diff)"
   ]
  },
  {
   "cell_type": "markdown",
   "id": "b17c5edc-5bd5-4e14-8ba7-2ccb64ce800d",
   "metadata": {},
   "source": [
    "### Interpretation"
   ]
  },
  {
   "cell_type": "markdown",
   "id": "317df29d-d09c-4c53-89f8-f1f2bfc7573d",
   "metadata": {},
   "source": [
    "**Test Statistic: -3.341**\n",
    "- The test statistic is more negative than the 5% and 10% critical values. This suggests that at the 5% and 10% significance levels, we can reject the null hypothesis of non-stationary.\n",
    "\n",
    "**p-value: 0.013**\n",
    "- The p-value is less than 0.05, which further supports rejecting the null hypothesis of non-stationarity at the 5% level. This implies that the series does not exhibit a strong trend or seasonal pattern and can be analyzed with methods that assume stationarity."
   ]
  },
  {
   "cell_type": "markdown",
   "id": "3fbdf832-0da0-4153-918a-699f05e97326",
   "metadata": {},
   "source": [
    "## 7. Check the data's autocorrelations"
   ]
  },
  {
   "cell_type": "code",
   "execution_count": 145,
   "id": "b142f115-2a0c-48ce-ac56-4c78ab96691a",
   "metadata": {},
   "outputs": [
    {
     "data": {
      "image/png": "[encoded data removed]",
      "text/plain": [
       "<Figure size 1800x700 with 1 Axes>"
      ]
     },
     "metadata": {},
     "output_type": "display_data"
    }
   ],
   "source": [
    "# check the autocorrelations\n",
    "\n",
    "plot_acf(data_diff)\n",
    "plt.show()"
   ]
  },
  {
   "cell_type": "markdown",
   "id": "588fdd94-ecb4-46c6-9859-b624a80450c7",
   "metadata": {},
   "source": [
    "### Intepretation"
   ]
  },
  {
   "cell_type": "markdown",
   "id": "b58c6d16-e493-4d4f-a39f-b245398b326a",
   "metadata": {},
   "source": [
    "With only one out of 13 lags exceeding the confidence level, this implies that there is minimal autocorrelation in the differenced series. This suggests that most of the trend or seasonality has been removed."
   ]
  },
  {
   "cell_type": "markdown",
   "id": "6e01d037-2c29-4964-90ac-3462e554b23b",
   "metadata": {},
   "source": [
    "## 8. Export data"
   ]
  },
  {
   "cell_type": "code",
   "execution_count": 152,
   "id": "cc24a010-a9c3-47fb-af47-704dfdf505d0",
   "metadata": {},
   "outputs": [],
   "source": [
    "# exporting df_year_no_dups\n",
    "df_year_no_dups.to_pickle(os.path.join(path, '02 Data','Prepared Data', 'time_series_year.pkl'))"
   ]
  },
  {
   "cell_type": "code",
   "execution_count": 154,
   "id": "f09ee01e-61f7-4169-8dee-f9f81237a5c8",
   "metadata": {},
   "outputs": [],
   "source": [
    "# exporting differenced series data\n",
    "data_diff.to_pickle(os.path.join(path, '02 Data','Prepared Data', 'time_series_year_diff.pkl'))"
   ]
  },
  {
   "cell_type": "code",
   "execution_count": null,
   "id": "9503dde0-ae27-4b6f-bea7-3f41d052a089",
   "metadata": {},
   "outputs": [],
   "source": []
  }
 ],
 "metadata": {
  "kernelspec": {
   "display_name": "Python 3 (ipykernel)",
   "language": "python",
   "name": "python3"
  },
  "language_info": {
   "codemirror_mode": {
    "name": "ipython",
    "version": 3
   },
   "file_extension": ".py",
   "mimetype": "text/x-python",
   "name": "python",
   "nbconvert_exporter": "python",
   "pygments_lexer": "ipython3",
   "version": "3.11.7"
  }
 },
 "nbformat": 4,
 "nbformat_minor": 5
}
