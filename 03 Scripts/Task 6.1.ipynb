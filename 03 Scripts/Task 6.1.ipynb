{
 "cells": [
  {
   "cell_type": "markdown",
   "id": "810874ca-1e66-4d49-aaed-138e3cdcd74f",
   "metadata": {},
   "source": [
    "# Table of Contents"
   ]
  },
  {
   "cell_type": "markdown",
   "id": "153bead1-1d3e-4e18-8dba-3ac298590a38",
   "metadata": {},
   "source": [
    "#### 1. Import Libraries and data\n",
    "#### 2. Review data shape, structure, and basic statistics\n",
    "#### 3. Data Cleaning\n",
    "        3.1: Missing Values\n",
    "        3.2: Duplicate Values\n",
    "        3.3: Mixed type data\n",
    "        3.4: Finding and reviewing outliers\n",
    "        3.5: Updating outliers\n",
    "#### 4. Frequency Distributions\n",
    "        4.1: Region\n",
    "        4.2: Soil Type\n",
    "        4.3: Crop\n",
    "        4.4: Weather Condition\n",
    "        4.5: Rainfall_mm\n",
    "        4.6: Temperature_Celsius\n",
    "        4.7: Days to Harvest\n",
    "        4.8: Yield_tons_per_hectare\n",
    "        4.9: Fertilizer used\n",
    "        4.10: Irrigation used\n",
    "#### 5. Observations\n",
    "#### 6. Export Data"
   ]
  },
  {
   "cell_type": "markdown",
   "id": "a3f42788-0dfd-4bda-9dc1-fe0b93ce869b",
   "metadata": {},
   "source": [
    "## 1. Import libraries and data"
   ]
  },
  {
   "cell_type": "code",
   "execution_count": 6,
   "id": "dd2a2dd6-e409-4f68-82ab-a41f4ff09833",
   "metadata": {},
   "outputs": [],
   "source": [
    "# importing libraries\n",
    "import pandas as pd \n",
    "import numpy as np \n",
    "import os\n",
    "import matplotlib.pyplot as plt\n",
    "import seaborn as sns\n",
    "import scipy"
   ]
  },
  {
   "cell_type": "code",
   "execution_count": 7,
   "id": "84520972-79b1-4ac9-bd0e-3ebe4f5d51b8",
   "metadata": {},
   "outputs": [],
   "source": [
    "# create shortcut path\n",
    "path = r\"C:\\Users\\HP\\Documents\\09-2024 Agriculture Crop Analysis\""
   ]
  },
  {
   "cell_type": "code",
   "execution_count": 8,
   "id": "4937a0df-686f-4661-bd07-f98ea05a467f",
   "metadata": {},
   "outputs": [],
   "source": [
    "# import datasets\n",
    "df_crop = pd.read_csv(os.path.join(path, '02 Data', 'Original Data', 'crop_yield.csv'), index_col = False)"
   ]
  },
  {
   "cell_type": "markdown",
   "id": "fb41e286-d6e8-470d-89ba-3f0cc6d4ba65",
   "metadata": {},
   "source": [
    "## 2. Data exploration"
   ]
  },
  {
   "cell_type": "code",
   "execution_count": 10,
   "id": "0f93ef8d-a026-4b67-8613-d4ce11e2b645",
   "metadata": {},
   "outputs": [
    {
     "data": {
      "text/html": [
       "<div>\n",
       "<style scoped>\n",
       "    .dataframe tbody tr th:only-of-type {\n",
       "        vertical-align: middle;\n",
       "    }\n",
       "\n",
       "    .dataframe tbody tr th {\n",
       "        vertical-align: top;\n",
       "    }\n",
       "\n",
       "    .dataframe thead th {\n",
       "        text-align: right;\n",
       "    }\n",
       "</style>\n",
       "<table border=\"1\" class=\"dataframe\">\n",
       "  <thead>\n",
       "    <tr style=\"text-align: right;\">\n",
       "      <th></th>\n",
       "      <th>Region</th>\n",
       "      <th>Soil_Type</th>\n",
       "      <th>Crop</th>\n",
       "      <th>Rainfall_mm</th>\n",
       "      <th>Temperature_Celsius</th>\n",
       "      <th>Fertilizer_Used</th>\n",
       "      <th>Irrigation_Used</th>\n",
       "      <th>Weather_Condition</th>\n",
       "      <th>Days_to_Harvest</th>\n",
       "      <th>Yield_tons_per_hectare</th>\n",
       "    </tr>\n",
       "  </thead>\n",
       "  <tbody>\n",
       "    <tr>\n",
       "      <th>0</th>\n",
       "      <td>West</td>\n",
       "      <td>Sandy</td>\n",
       "      <td>Cotton</td>\n",
       "      <td>897.077239</td>\n",
       "      <td>27.676966</td>\n",
       "      <td>False</td>\n",
       "      <td>True</td>\n",
       "      <td>Cloudy</td>\n",
       "      <td>122</td>\n",
       "      <td>6.555816</td>\n",
       "    </tr>\n",
       "    <tr>\n",
       "      <th>1</th>\n",
       "      <td>South</td>\n",
       "      <td>Clay</td>\n",
       "      <td>Rice</td>\n",
       "      <td>992.673282</td>\n",
       "      <td>18.026142</td>\n",
       "      <td>True</td>\n",
       "      <td>True</td>\n",
       "      <td>Rainy</td>\n",
       "      <td>140</td>\n",
       "      <td>8.527341</td>\n",
       "    </tr>\n",
       "    <tr>\n",
       "      <th>2</th>\n",
       "      <td>North</td>\n",
       "      <td>Loam</td>\n",
       "      <td>Barley</td>\n",
       "      <td>147.998025</td>\n",
       "      <td>29.794042</td>\n",
       "      <td>False</td>\n",
       "      <td>False</td>\n",
       "      <td>Sunny</td>\n",
       "      <td>106</td>\n",
       "      <td>1.127443</td>\n",
       "    </tr>\n",
       "    <tr>\n",
       "      <th>3</th>\n",
       "      <td>North</td>\n",
       "      <td>Sandy</td>\n",
       "      <td>Soybean</td>\n",
       "      <td>986.866331</td>\n",
       "      <td>16.644190</td>\n",
       "      <td>False</td>\n",
       "      <td>True</td>\n",
       "      <td>Rainy</td>\n",
       "      <td>146</td>\n",
       "      <td>6.517573</td>\n",
       "    </tr>\n",
       "    <tr>\n",
       "      <th>4</th>\n",
       "      <td>South</td>\n",
       "      <td>Silt</td>\n",
       "      <td>Wheat</td>\n",
       "      <td>730.379174</td>\n",
       "      <td>31.620687</td>\n",
       "      <td>True</td>\n",
       "      <td>True</td>\n",
       "      <td>Cloudy</td>\n",
       "      <td>110</td>\n",
       "      <td>7.248251</td>\n",
       "    </tr>\n",
       "  </tbody>\n",
       "</table>\n",
       "</div>"
      ],
      "text/plain": [
       "  Region Soil_Type     Crop  Rainfall_mm  Temperature_Celsius  \\\n",
       "0   West     Sandy   Cotton   897.077239            27.676966   \n",
       "1  South      Clay     Rice   992.673282            18.026142   \n",
       "2  North      Loam   Barley   147.998025            29.794042   \n",
       "3  North     Sandy  Soybean   986.866331            16.644190   \n",
       "4  South      Silt    Wheat   730.379174            31.620687   \n",
       "\n",
       "   Fertilizer_Used  Irrigation_Used Weather_Condition  Days_to_Harvest  \\\n",
       "0            False             True            Cloudy              122   \n",
       "1             True             True             Rainy              140   \n",
       "2            False            False             Sunny              106   \n",
       "3            False             True             Rainy              146   \n",
       "4             True             True            Cloudy              110   \n",
       "\n",
       "   Yield_tons_per_hectare  \n",
       "0                6.555816  \n",
       "1                8.527341  \n",
       "2                1.127443  \n",
       "3                6.517573  \n",
       "4                7.248251  "
      ]
     },
     "execution_count": 10,
     "metadata": {},
     "output_type": "execute_result"
    }
   ],
   "source": [
    "df_crop.head()"
   ]
  },
  {
   "cell_type": "code",
   "execution_count": 11,
   "id": "4b508796-5ba1-4be1-86b2-ea4daf10153e",
   "metadata": {},
   "outputs": [
    {
     "data": {
      "text/html": [
       "<div>\n",
       "<style scoped>\n",
       "    .dataframe tbody tr th:only-of-type {\n",
       "        vertical-align: middle;\n",
       "    }\n",
       "\n",
       "    .dataframe tbody tr th {\n",
       "        vertical-align: top;\n",
       "    }\n",
       "\n",
       "    .dataframe thead th {\n",
       "        text-align: right;\n",
       "    }\n",
       "</style>\n",
       "<table border=\"1\" class=\"dataframe\">\n",
       "  <thead>\n",
       "    <tr style=\"text-align: right;\">\n",
       "      <th></th>\n",
       "      <th>Region</th>\n",
       "      <th>Soil_Type</th>\n",
       "      <th>Crop</th>\n",
       "      <th>Rainfall_mm</th>\n",
       "      <th>Temperature_Celsius</th>\n",
       "      <th>Fertilizer_Used</th>\n",
       "      <th>Irrigation_Used</th>\n",
       "      <th>Weather_Condition</th>\n",
       "      <th>Days_to_Harvest</th>\n",
       "      <th>Yield_tons_per_hectare</th>\n",
       "    </tr>\n",
       "  </thead>\n",
       "  <tbody>\n",
       "    <tr>\n",
       "      <th>999995</th>\n",
       "      <td>West</td>\n",
       "      <td>Silt</td>\n",
       "      <td>Rice</td>\n",
       "      <td>302.805345</td>\n",
       "      <td>27.987428</td>\n",
       "      <td>False</td>\n",
       "      <td>False</td>\n",
       "      <td>Sunny</td>\n",
       "      <td>76</td>\n",
       "      <td>1.347586</td>\n",
       "    </tr>\n",
       "    <tr>\n",
       "      <th>999996</th>\n",
       "      <td>South</td>\n",
       "      <td>Chalky</td>\n",
       "      <td>Barley</td>\n",
       "      <td>932.991383</td>\n",
       "      <td>39.661039</td>\n",
       "      <td>True</td>\n",
       "      <td>False</td>\n",
       "      <td>Rainy</td>\n",
       "      <td>93</td>\n",
       "      <td>7.311594</td>\n",
       "    </tr>\n",
       "    <tr>\n",
       "      <th>999997</th>\n",
       "      <td>North</td>\n",
       "      <td>Peaty</td>\n",
       "      <td>Cotton</td>\n",
       "      <td>867.362046</td>\n",
       "      <td>24.370042</td>\n",
       "      <td>True</td>\n",
       "      <td>False</td>\n",
       "      <td>Cloudy</td>\n",
       "      <td>108</td>\n",
       "      <td>5.763182</td>\n",
       "    </tr>\n",
       "    <tr>\n",
       "      <th>999998</th>\n",
       "      <td>West</td>\n",
       "      <td>Silt</td>\n",
       "      <td>Wheat</td>\n",
       "      <td>492.812857</td>\n",
       "      <td>33.045505</td>\n",
       "      <td>False</td>\n",
       "      <td>False</td>\n",
       "      <td>Sunny</td>\n",
       "      <td>102</td>\n",
       "      <td>2.070159</td>\n",
       "    </tr>\n",
       "    <tr>\n",
       "      <th>999999</th>\n",
       "      <td>West</td>\n",
       "      <td>Sandy</td>\n",
       "      <td>Maize</td>\n",
       "      <td>180.936180</td>\n",
       "      <td>27.298847</td>\n",
       "      <td>True</td>\n",
       "      <td>False</td>\n",
       "      <td>Sunny</td>\n",
       "      <td>76</td>\n",
       "      <td>2.937243</td>\n",
       "    </tr>\n",
       "  </tbody>\n",
       "</table>\n",
       "</div>"
      ],
      "text/plain": [
       "       Region Soil_Type    Crop  Rainfall_mm  Temperature_Celsius  \\\n",
       "999995   West      Silt    Rice   302.805345            27.987428   \n",
       "999996  South    Chalky  Barley   932.991383            39.661039   \n",
       "999997  North     Peaty  Cotton   867.362046            24.370042   \n",
       "999998   West      Silt   Wheat   492.812857            33.045505   \n",
       "999999   West     Sandy   Maize   180.936180            27.298847   \n",
       "\n",
       "        Fertilizer_Used  Irrigation_Used Weather_Condition  Days_to_Harvest  \\\n",
       "999995            False            False             Sunny               76   \n",
       "999996             True            False             Rainy               93   \n",
       "999997             True            False            Cloudy              108   \n",
       "999998            False            False             Sunny              102   \n",
       "999999             True            False             Sunny               76   \n",
       "\n",
       "        Yield_tons_per_hectare  \n",
       "999995                1.347586  \n",
       "999996                7.311594  \n",
       "999997                5.763182  \n",
       "999998                2.070159  \n",
       "999999                2.937243  "
      ]
     },
     "execution_count": 11,
     "metadata": {},
     "output_type": "execute_result"
    }
   ],
   "source": [
    "df_crop.tail()"
   ]
  },
  {
   "cell_type": "code",
   "execution_count": 12,
   "id": "693bb08a-a9e8-4e92-acd0-be773395dca3",
   "metadata": {},
   "outputs": [
    {
     "data": {
      "text/plain": [
       "(1000000, 10)"
      ]
     },
     "execution_count": 12,
     "metadata": {},
     "output_type": "execute_result"
    }
   ],
   "source": [
    "df_crop.shape"
   ]
  },
  {
   "cell_type": "code",
   "execution_count": 13,
   "id": "0b11c975-7a34-472e-9acf-8f8ccc0d289f",
   "metadata": {},
   "outputs": [
    {
     "data": {
      "text/plain": [
       "Region                     object\n",
       "Soil_Type                  object\n",
       "Crop                       object\n",
       "Rainfall_mm               float64\n",
       "Temperature_Celsius       float64\n",
       "Fertilizer_Used              bool\n",
       "Irrigation_Used              bool\n",
       "Weather_Condition          object\n",
       "Days_to_Harvest             int64\n",
       "Yield_tons_per_hectare    float64\n",
       "dtype: object"
      ]
     },
     "execution_count": 13,
     "metadata": {},
     "output_type": "execute_result"
    }
   ],
   "source": [
    "df_crop.dtypes"
   ]
  },
  {
   "cell_type": "code",
   "execution_count": 14,
   "id": "1ff394bd-e497-438f-a864-52c41fe23b21",
   "metadata": {},
   "outputs": [
    {
     "data": {
      "text/html": [
       "<div>\n",
       "<style scoped>\n",
       "    .dataframe tbody tr th:only-of-type {\n",
       "        vertical-align: middle;\n",
       "    }\n",
       "\n",
       "    .dataframe tbody tr th {\n",
       "        vertical-align: top;\n",
       "    }\n",
       "\n",
       "    .dataframe thead th {\n",
       "        text-align: right;\n",
       "    }\n",
       "</style>\n",
       "<table border=\"1\" class=\"dataframe\">\n",
       "  <thead>\n",
       "    <tr style=\"text-align: right;\">\n",
       "      <th></th>\n",
       "      <th>Rainfall_mm</th>\n",
       "      <th>Temperature_Celsius</th>\n",
       "      <th>Days_to_Harvest</th>\n",
       "      <th>Yield_tons_per_hectare</th>\n",
       "    </tr>\n",
       "  </thead>\n",
       "  <tbody>\n",
       "    <tr>\n",
       "      <th>count</th>\n",
       "      <td>1000000.000000</td>\n",
       "      <td>1000000.000000</td>\n",
       "      <td>1000000.000000</td>\n",
       "      <td>1000000.000000</td>\n",
       "    </tr>\n",
       "    <tr>\n",
       "      <th>mean</th>\n",
       "      <td>549.981901</td>\n",
       "      <td>27.504965</td>\n",
       "      <td>104.495025</td>\n",
       "      <td>4.649472</td>\n",
       "    </tr>\n",
       "    <tr>\n",
       "      <th>std</th>\n",
       "      <td>259.851320</td>\n",
       "      <td>7.220608</td>\n",
       "      <td>25.953412</td>\n",
       "      <td>1.696572</td>\n",
       "    </tr>\n",
       "    <tr>\n",
       "      <th>min</th>\n",
       "      <td>100.000896</td>\n",
       "      <td>15.000034</td>\n",
       "      <td>60.000000</td>\n",
       "      <td>-1.147613</td>\n",
       "    </tr>\n",
       "    <tr>\n",
       "      <th>25%</th>\n",
       "      <td>324.891090</td>\n",
       "      <td>21.254502</td>\n",
       "      <td>82.000000</td>\n",
       "      <td>3.417637</td>\n",
       "    </tr>\n",
       "    <tr>\n",
       "      <th>50%</th>\n",
       "      <td>550.124061</td>\n",
       "      <td>27.507365</td>\n",
       "      <td>104.000000</td>\n",
       "      <td>4.651808</td>\n",
       "    </tr>\n",
       "    <tr>\n",
       "      <th>75%</th>\n",
       "      <td>774.738520</td>\n",
       "      <td>33.753267</td>\n",
       "      <td>127.000000</td>\n",
       "      <td>5.879200</td>\n",
       "    </tr>\n",
       "    <tr>\n",
       "      <th>max</th>\n",
       "      <td>999.998098</td>\n",
       "      <td>39.999997</td>\n",
       "      <td>149.000000</td>\n",
       "      <td>9.963372</td>\n",
       "    </tr>\n",
       "  </tbody>\n",
       "</table>\n",
       "</div>"
      ],
      "text/plain": [
       "          Rainfall_mm  Temperature_Celsius  Days_to_Harvest  \\\n",
       "count  1000000.000000       1000000.000000   1000000.000000   \n",
       "mean       549.981901            27.504965       104.495025   \n",
       "std        259.851320             7.220608        25.953412   \n",
       "min        100.000896            15.000034        60.000000   \n",
       "25%        324.891090            21.254502        82.000000   \n",
       "50%        550.124061            27.507365       104.000000   \n",
       "75%        774.738520            33.753267       127.000000   \n",
       "max        999.998098            39.999997       149.000000   \n",
       "\n",
       "       Yield_tons_per_hectare  \n",
       "count          1000000.000000  \n",
       "mean                 4.649472  \n",
       "std                  1.696572  \n",
       "min                 -1.147613  \n",
       "25%                  3.417637  \n",
       "50%                  4.651808  \n",
       "75%                  5.879200  \n",
       "max                  9.963372  "
      ]
     },
     "execution_count": 14,
     "metadata": {},
     "output_type": "execute_result"
    }
   ],
   "source": [
    "# viewing basic statistics\n",
    "df_crop.describe()"
   ]
  },
  {
   "cell_type": "markdown",
   "id": "79e8113c-c48c-421b-91e8-fdfa96159bd1",
   "metadata": {},
   "source": [
    "The variable that stands out to me is the minimum value for Yield_tons_per_hectare. For the remainder of the dataset, the mean and 50% values are very similar, meaning that most of the other distributions are evenly spaced. This could make for a more straightforward analysis, but present real-world limitations."
   ]
  },
  {
   "cell_type": "markdown",
   "id": "2710128e-ad54-4194-860e-1a6c309ce0f5",
   "metadata": {},
   "source": [
    "## 3. Data Cleaning"
   ]
  },
  {
   "cell_type": "code",
   "execution_count": 17,
   "id": "ada2bec4-5649-452b-b2f7-f349e0f4b8d7",
   "metadata": {},
   "outputs": [
    {
     "data": {
      "text/plain": [
       "(Region                    0\n",
       " Soil_Type                 0\n",
       " Crop                      0\n",
       " Rainfall_mm               0\n",
       " Temperature_Celsius       0\n",
       " Fertilizer_Used           0\n",
       " Irrigation_Used           0\n",
       " Weather_Condition         0\n",
       " Days_to_Harvest           0\n",
       " Yield_tons_per_hectare    0\n",
       " dtype: int64,\n",
       " 0)"
      ]
     },
     "execution_count": 17,
     "metadata": {},
     "output_type": "execute_result"
    }
   ],
   "source": [
    "#  3.1 check for missing values\n",
    "missing_values = df_crop.isnull().sum()\n",
    "\n",
    "# 3.2 check for duplicates\n",
    "duplicate_rows = df_crop.duplicated().sum()\n",
    "\n",
    "missing_values, duplicate_rows"
   ]
  },
  {
   "cell_type": "markdown",
   "id": "0d058360-b3ec-4d28-b6a0-cd779d0b0f41",
   "metadata": {},
   "source": [
    "No missing values or duplicate rows in the set."
   ]
  },
  {
   "cell_type": "code",
   "execution_count": 19,
   "id": "b32bb2b2-437d-4a37-ae07-09598838153e",
   "metadata": {},
   "outputs": [
    {
     "name": "stdout",
     "output_type": "stream",
     "text": [
      "no mixed-type data\n"
     ]
    }
   ],
   "source": [
    "# 3.3 check for mixed-type data\n",
    "for col in df_crop.columns.tolist():\n",
    "  weird = (df_crop[[col]].map(type) != df_crop[[col]].iloc[0].apply(type)).any(axis = 1)\n",
    "  if len (df_crop[weird]) > 0:\n",
    "      print(col)\n",
    "else : print(\"no mixed-type data\")"
   ]
  },
  {
   "cell_type": "markdown",
   "id": "966320af-a6a1-4de9-834e-a3c5d4ffc2ef",
   "metadata": {},
   "source": [
    "No mixed type data in the set."
   ]
  },
  {
   "cell_type": "code",
   "execution_count": 21,
   "id": "14036f2d-2cad-4811-87c4-fe4bd3ace559",
   "metadata": {},
   "outputs": [
    {
     "name": "stdout",
     "output_type": "stream",
     "text": [
      "       Region Soil_Type     Crop  Rainfall_mm  Temperature_Celsius  \\\n",
      "11596    West     Peaty    Wheat   957.380991            36.324216   \n",
      "39669    East      Loam   Barley   147.755191            20.390486   \n",
      "54745   North     Peaty   Barley   119.136310            15.984143   \n",
      "77504    West     Sandy    Wheat   120.422223            22.809881   \n",
      "93760    West      Clay  Soybean   108.811480            17.936402   \n",
      "...       ...       ...      ...          ...                  ...   \n",
      "942403  South      Silt    Maize   987.281001            23.821032   \n",
      "947118  North      Clay   Cotton   110.727929            23.191667   \n",
      "949892  North      Silt  Soybean   107.476604            15.473496   \n",
      "966078  South    Chalky    Wheat   948.730680            38.383078   \n",
      "975666  South      Clay   Barley   116.114046            16.257818   \n",
      "\n",
      "        Fertilizer_Used  Irrigation_Used Weather_Condition  Days_to_Harvest  \\\n",
      "11596              True             True             Sunny               73   \n",
      "39669             False            False            Cloudy               72   \n",
      "54745             False            False            Cloudy               93   \n",
      "77504             False            False             Rainy              120   \n",
      "93760             False            False             Rainy               88   \n",
      "...                 ...              ...               ...              ...   \n",
      "942403             True             True             Rainy              114   \n",
      "947118            False            False             Rainy               80   \n",
      "949892            False            False             Sunny               80   \n",
      "966078             True             True            Cloudy               82   \n",
      "975666            False            False             Sunny               70   \n",
      "\n",
      "        Yield_tons_per_hectare  \n",
      "11596                 9.727004  \n",
      "39669                -0.469229  \n",
      "54745                -0.290180  \n",
      "77504                -0.841617  \n",
      "93760                -0.434482  \n",
      "...                        ...  \n",
      "942403                9.826285  \n",
      "947118               -0.507013  \n",
      "949892               -0.309650  \n",
      "966078                9.650875  \n",
      "975666               -0.471038  \n",
      "\n",
      "[84 rows x 10 columns]\n"
     ]
    }
   ],
   "source": [
    "# 3.4 finding outliers in 'Yield_tons_per_hectare'\n",
    "\n",
    "# calculate Q1 (25th percentile) and Q3 (75th percentile)\n",
    "Q1 = df_crop['Yield_tons_per_hectare'].quantile(0.25)\n",
    "Q3 = df_crop['Yield_tons_per_hectare'].quantile(0.75)\n",
    "IQR = Q3 - Q1\n",
    "\n",
    "# define the bounds\n",
    "lower_bound = Q1 - 1.5 * IQR\n",
    "upper_bound = Q3 + 1.5 * IQR\n",
    "\n",
    "# find outliers\n",
    "outliers = df_crop[(df_crop['Yield_tons_per_hectare'] < lower_bound) | (df_crop['Yield_tons_per_hectare'] > upper_bound)]\n",
    "print(outliers)"
   ]
  },
  {
   "cell_type": "code",
   "execution_count": 22,
   "id": "9eb92979-f471-4e2e-94ef-08560907c307",
   "metadata": {},
   "outputs": [
    {
     "data": {
      "image/png": "[encoded data removed]",
      "text/plain": [
       "<Figure size 640x480 with 1 Axes>"
      ]
     },
     "metadata": {},
     "output_type": "display_data"
    }
   ],
   "source": [
    "# create a boxplot\n",
    "plt.boxplot(df_crop['Yield_tons_per_hectare'])\n",
    "plt.show()"
   ]
  },
  {
   "cell_type": "markdown",
   "id": "c0d528f0-6beb-4502-b801-e484bbcb5060",
   "metadata": {},
   "source": [
    "I have decided to update the negative values to 0 and leave the upper bound outliers as is."
   ]
  },
  {
   "cell_type": "code",
   "execution_count": 24,
   "id": "b14b0138-3682-4cc4-8452-ce9b1272956f",
   "metadata": {},
   "outputs": [
    {
     "name": "stdout",
     "output_type": "stream",
     "text": [
      "       Region Soil_Type     Crop  Rainfall_mm  Temperature_Celsius  \\\n",
      "756      East     Peaty   Cotton   101.019421            33.804131   \n",
      "7799    South    Chalky     Rice   108.804894            18.004082   \n",
      "8421     East    Chalky  Soybean   168.120735            38.473430   \n",
      "9553    North      Silt    Wheat   156.607973            16.610257   \n",
      "15435   South    Chalky    Maize   177.481344            27.719742   \n",
      "...       ...       ...      ...          ...                  ...   \n",
      "975666  South      Clay   Barley   116.114046            16.257818   \n",
      "982738   West      Loam    Wheat   235.792353            31.699429   \n",
      "987054   West     Peaty   Barley   100.467398            15.735951   \n",
      "995837   East    Chalky    Maize   105.575189            15.864764   \n",
      "998040  North    Chalky    Maize   184.671094            29.176601   \n",
      "\n",
      "        Fertilizer_Used  Irrigation_Used Weather_Condition  Days_to_Harvest  \\\n",
      "756               False            False             Rainy              117   \n",
      "7799              False            False             Sunny               86   \n",
      "8421              False            False            Cloudy              111   \n",
      "9553              False            False             Sunny              129   \n",
      "15435             False            False             Sunny               94   \n",
      "...                 ...              ...               ...              ...   \n",
      "975666            False            False             Sunny               70   \n",
      "982738            False            False             Sunny               68   \n",
      "987054            False            False             Rainy               96   \n",
      "995837            False            False             Rainy              111   \n",
      "998040            False            False             Sunny               92   \n",
      "\n",
      "        Yield_tons_per_hectare  \n",
      "756                  -0.007103  \n",
      "7799                 -0.061283  \n",
      "8421                 -0.119911  \n",
      "9553                 -0.193093  \n",
      "15435                -0.009811  \n",
      "...                        ...  \n",
      "975666               -0.471038  \n",
      "982738               -0.255772  \n",
      "987054               -0.120282  \n",
      "995837               -0.051633  \n",
      "998040               -0.125976  \n",
      "\n",
      "[231 rows x 10 columns]\n"
     ]
    }
   ],
   "source": [
    "# returning negative ' Yield_tons_per_hectare' values\n",
    "negative_outliers = df_crop[df_crop['Yield_tons_per_hectare'] < 0]\n",
    "print(negative_outliers)"
   ]
  },
  {
   "cell_type": "markdown",
   "id": "ef4b46ef-aadf-4888-ae38-03436cdbfcb8",
   "metadata": {},
   "source": [
    "There are 231 rows with negative values in the yield column."
   ]
  },
  {
   "cell_type": "code",
   "execution_count": 26,
   "id": "1c6db61a-a564-4fab-a972-6c38329c26e1",
   "metadata": {},
   "outputs": [],
   "source": [
    "# 3.5 Updating negative values to 0\n",
    "# Create a copy of the original dataset\n",
    "df_crop_clean = df_crop.copy()\n",
    "\n",
    "# Replace negative values in the 'Yield_tons_per_hectare' column with 0 in the new dataset\n",
    "df_crop_clean.loc[df_crop_clean['Yield_tons_per_hectare'] < 0, 'Yield_tons_per_hectare'] = 0"
   ]
  },
  {
   "cell_type": "code",
   "execution_count": 27,
   "id": "9ce42062-c416-410b-a32a-6171b3517b15",
   "metadata": {},
   "outputs": [
    {
     "data": {
      "text/html": [
       "<div>\n",
       "<style scoped>\n",
       "    .dataframe tbody tr th:only-of-type {\n",
       "        vertical-align: middle;\n",
       "    }\n",
       "\n",
       "    .dataframe tbody tr th {\n",
       "        vertical-align: top;\n",
       "    }\n",
       "\n",
       "    .dataframe thead th {\n",
       "        text-align: right;\n",
       "    }\n",
       "</style>\n",
       "<table border=\"1\" class=\"dataframe\">\n",
       "  <thead>\n",
       "    <tr style=\"text-align: right;\">\n",
       "      <th></th>\n",
       "      <th>Rainfall_mm</th>\n",
       "      <th>Temperature_Celsius</th>\n",
       "      <th>Days_to_Harvest</th>\n",
       "      <th>Yield_tons_per_hectare</th>\n",
       "    </tr>\n",
       "  </thead>\n",
       "  <tbody>\n",
       "    <tr>\n",
       "      <th>count</th>\n",
       "      <td>1000000.000000</td>\n",
       "      <td>1000000.000000</td>\n",
       "      <td>1000000.000000</td>\n",
       "      <td>1000000.000000</td>\n",
       "    </tr>\n",
       "    <tr>\n",
       "      <th>mean</th>\n",
       "      <td>549.981901</td>\n",
       "      <td>27.504965</td>\n",
       "      <td>104.495025</td>\n",
       "      <td>4.649518</td>\n",
       "    </tr>\n",
       "    <tr>\n",
       "      <th>std</th>\n",
       "      <td>259.851320</td>\n",
       "      <td>7.220608</td>\n",
       "      <td>25.953412</td>\n",
       "      <td>1.696443</td>\n",
       "    </tr>\n",
       "    <tr>\n",
       "      <th>min</th>\n",
       "      <td>100.000896</td>\n",
       "      <td>15.000034</td>\n",
       "      <td>60.000000</td>\n",
       "      <td>0.000000</td>\n",
       "    </tr>\n",
       "    <tr>\n",
       "      <th>25%</th>\n",
       "      <td>324.891090</td>\n",
       "      <td>21.254502</td>\n",
       "      <td>82.000000</td>\n",
       "      <td>3.417637</td>\n",
       "    </tr>\n",
       "    <tr>\n",
       "      <th>50%</th>\n",
       "      <td>550.124061</td>\n",
       "      <td>27.507365</td>\n",
       "      <td>104.000000</td>\n",
       "      <td>4.651808</td>\n",
       "    </tr>\n",
       "    <tr>\n",
       "      <th>75%</th>\n",
       "      <td>774.738520</td>\n",
       "      <td>33.753267</td>\n",
       "      <td>127.000000</td>\n",
       "      <td>5.879200</td>\n",
       "    </tr>\n",
       "    <tr>\n",
       "      <th>max</th>\n",
       "      <td>999.998098</td>\n",
       "      <td>39.999997</td>\n",
       "      <td>149.000000</td>\n",
       "      <td>9.963372</td>\n",
       "    </tr>\n",
       "  </tbody>\n",
       "</table>\n",
       "</div>"
      ],
      "text/plain": [
       "          Rainfall_mm  Temperature_Celsius  Days_to_Harvest  \\\n",
       "count  1000000.000000       1000000.000000   1000000.000000   \n",
       "mean       549.981901            27.504965       104.495025   \n",
       "std        259.851320             7.220608        25.953412   \n",
       "min        100.000896            15.000034        60.000000   \n",
       "25%        324.891090            21.254502        82.000000   \n",
       "50%        550.124061            27.507365       104.000000   \n",
       "75%        774.738520            33.753267       127.000000   \n",
       "max        999.998098            39.999997       149.000000   \n",
       "\n",
       "       Yield_tons_per_hectare  \n",
       "count          1000000.000000  \n",
       "mean                 4.649518  \n",
       "std                  1.696443  \n",
       "min                  0.000000  \n",
       "25%                  3.417637  \n",
       "50%                  4.651808  \n",
       "75%                  5.879200  \n",
       "max                  9.963372  "
      ]
     },
     "execution_count": 27,
     "metadata": {},
     "output_type": "execute_result"
    }
   ],
   "source": [
    "df_crop_clean.describe()"
   ]
  },
  {
   "cell_type": "code",
   "execution_count": 28,
   "id": "a1506a5f-8131-42fb-80ef-007bd61f8c96",
   "metadata": {},
   "outputs": [
    {
     "data": {
      "text/html": [
       "<div>\n",
       "<style scoped>\n",
       "    .dataframe tbody tr th:only-of-type {\n",
       "        vertical-align: middle;\n",
       "    }\n",
       "\n",
       "    .dataframe tbody tr th {\n",
       "        vertical-align: top;\n",
       "    }\n",
       "\n",
       "    .dataframe thead th {\n",
       "        text-align: right;\n",
       "    }\n",
       "</style>\n",
       "<table border=\"1\" class=\"dataframe\">\n",
       "  <thead>\n",
       "    <tr style=\"text-align: right;\">\n",
       "      <th></th>\n",
       "      <th>Region</th>\n",
       "      <th>Soil_Type</th>\n",
       "      <th>Crop</th>\n",
       "      <th>Rainfall_mm</th>\n",
       "      <th>Temperature_Celsius</th>\n",
       "      <th>Fertilizer_Used</th>\n",
       "      <th>Irrigation_Used</th>\n",
       "      <th>Weather_Condition</th>\n",
       "      <th>Days_to_Harvest</th>\n",
       "      <th>Yield_tons_per_hectare</th>\n",
       "    </tr>\n",
       "  </thead>\n",
       "  <tbody>\n",
       "  </tbody>\n",
       "</table>\n",
       "</div>"
      ],
      "text/plain": [
       "Empty DataFrame\n",
       "Columns: [Region, Soil_Type, Crop, Rainfall_mm, Temperature_Celsius, Fertilizer_Used, Irrigation_Used, Weather_Condition, Days_to_Harvest, Yield_tons_per_hectare]\n",
       "Index: []"
      ]
     },
     "execution_count": 28,
     "metadata": {},
     "output_type": "execute_result"
    }
   ],
   "source": [
    "# validating negative yields were removed\n",
    "negative_outliers_2 = df_crop_clean[df_crop_clean['Yield_tons_per_hectare'] < 0]\n",
    "negative_outliers_2"
   ]
  },
  {
   "cell_type": "markdown",
   "id": "edea65aa-787e-4c56-9c29-36fe67083d80",
   "metadata": {},
   "source": [
    "I can validate that the new dataset has the negative values converted to 0 by seeing that the min is 0, not a negative."
   ]
  },
  {
   "cell_type": "markdown",
   "id": "3500474a-b021-44c9-84a1-8157006d4c30",
   "metadata": {},
   "source": [
    "## 4. Frequency Distributions"
   ]
  },
  {
   "cell_type": "code",
   "execution_count": 31,
   "id": "d36f266f-f7fb-4507-a9de-a9bc4fef2200",
   "metadata": {},
   "outputs": [
    {
     "data": {
      "text/plain": [
       "Region\n",
       "North    250173\n",
       "West     250074\n",
       "South    250054\n",
       "East     249699\n",
       "Name: count, dtype: int64"
      ]
     },
     "execution_count": 31,
     "metadata": {},
     "output_type": "execute_result"
    }
   ],
   "source": [
    "# 4.1 viewing distribution of regions\n",
    "df_crop_clean['Region'].value_counts(dropna = False)"
   ]
  },
  {
   "cell_type": "code",
   "execution_count": 32,
   "id": "c32594ca-64f4-4e40-9cac-9d33e9475164",
   "metadata": {},
   "outputs": [
    {
     "data": {
      "text/plain": [
       "Text(0, 0.5, 'Count')"
      ]
     },
     "execution_count": 32,
     "metadata": {},
     "output_type": "execute_result"
    },
    {
     "data": {
      "image/png": "[encoded data removed]",
      "text/plain": [
       "<Figure size 640x480 with 1 Axes>"
      ]
     },
     "metadata": {},
     "output_type": "display_data"
    }
   ],
   "source": [
    "df_crop_clean['Region'].hist(bins = 7)\n",
    "plt.xlabel('Regions')\n",
    "plt.ylabel('Count')"
   ]
  },
  {
   "cell_type": "code",
   "execution_count": 33,
   "id": "04d90a03-781a-4eae-a84d-3d2288092a7a",
   "metadata": {},
   "outputs": [
    {
     "data": {
      "text/plain": [
       "Soil_Type\n",
       "Sandy     167119\n",
       "Loam      166795\n",
       "Chalky    166779\n",
       "Silt      166672\n",
       "Clay      166352\n",
       "Peaty     166283\n",
       "Name: count, dtype: int64"
      ]
     },
     "execution_count": 33,
     "metadata": {},
     "output_type": "execute_result"
    }
   ],
   "source": [
    "# 4.2 viewing distribution of soil type\n",
    "df_crop_clean['Soil_Type'].value_counts(dropna = False)"
   ]
  },
  {
   "cell_type": "code",
   "execution_count": 34,
   "id": "10d5b707-2a19-432e-b7b6-b5338bdc4b11",
   "metadata": {},
   "outputs": [
    {
     "data": {
      "text/plain": [
       "Text(0, 0.5, 'Count')"
      ]
     },
     "execution_count": 34,
     "metadata": {},
     "output_type": "execute_result"
    },
    {
     "data": {
      "image/png": "[encoded data removed]",
      "text/plain": [
       "<Figure size 640x480 with 1 Axes>"
      ]
     },
     "metadata": {},
     "output_type": "display_data"
    }
   ],
   "source": [
    "df_crop_clean['Soil_Type'].hist(bins = 11)\n",
    "plt.xlabel('Soil Type')\n",
    "plt.ylabel('Count')"
   ]
  },
  {
   "cell_type": "code",
   "execution_count": 35,
   "id": "59b65cdf-54f4-43d2-ab35-42b0a4304fd1",
   "metadata": {},
   "outputs": [
    {
     "data": {
      "text/plain": [
       "Crop\n",
       "Maize      166824\n",
       "Rice       166792\n",
       "Barley     166777\n",
       "Wheat      166673\n",
       "Cotton     166585\n",
       "Soybean    166349\n",
       "Name: count, dtype: int64"
      ]
     },
     "execution_count": 35,
     "metadata": {},
     "output_type": "execute_result"
    }
   ],
   "source": [
    "# 4.3 viewing distribution of crop\n",
    "df_crop_clean['Crop'].value_counts(dropna = False)"
   ]
  },
  {
   "cell_type": "code",
   "execution_count": 36,
   "id": "f2619c44-6978-43c4-91cb-62c527f82a09",
   "metadata": {},
   "outputs": [
    {
     "data": {
      "text/plain": [
       "Text(0, 0.5, 'Count')"
      ]
     },
     "execution_count": 36,
     "metadata": {},
     "output_type": "execute_result"
    },
    {
     "data": {
      "image/png": "[encoded data removed]",
      "text/plain": [
       "<Figure size 640x480 with 1 Axes>"
      ]
     },
     "metadata": {},
     "output_type": "display_data"
    }
   ],
   "source": [
    "df_crop_clean['Crop'].hist(bins = 11)\n",
    "plt.xlabel('Crop')\n",
    "plt.ylabel('Count')"
   ]
  },
  {
   "cell_type": "code",
   "execution_count": 37,
   "id": "b25b7e4c-a92d-4dec-a5ec-3f8e0b20f914",
   "metadata": {},
   "outputs": [
    {
     "data": {
      "text/plain": [
       "Weather_Condition\n",
       "Sunny     333790\n",
       "Rainy     333561\n",
       "Cloudy    332649\n",
       "Name: count, dtype: int64"
      ]
     },
     "execution_count": 37,
     "metadata": {},
     "output_type": "execute_result"
    }
   ],
   "source": [
    "# 4.4 viewing distribution of weather condition\n",
    "df_crop_clean['Weather_Condition'].value_counts(dropna = False)"
   ]
  },
  {
   "cell_type": "code",
   "execution_count": 38,
   "id": "e75a2418-9bcb-4ebe-aab0-c38a2c329f78",
   "metadata": {},
   "outputs": [
    {
     "data": {
      "text/plain": [
       "Text(0, 0.5, 'Count')"
      ]
     },
     "execution_count": 38,
     "metadata": {},
     "output_type": "execute_result"
    },
    {
     "data": {
      "image/png": "[encoded data removed]",
      "text/plain": [
       "<Figure size 640x480 with 1 Axes>"
      ]
     },
     "metadata": {},
     "output_type": "display_data"
    }
   ],
   "source": [
    "df_crop_clean['Weather_Condition'].hist(bins = 5)\n",
    "plt.xlabel('Weather Condition')\n",
    "plt.ylabel('Count')"
   ]
  },
  {
   "cell_type": "code",
   "execution_count": 39,
   "id": "b5efab3a-f08f-4e51-89f1-bad126127fd4",
   "metadata": {},
   "outputs": [
    {
     "data": {
      "text/plain": [
       "Rainfall_mm\n",
       "897.077239    1\n",
       "928.488327    1\n",
       "851.685194    1\n",
       "157.345005    1\n",
       "947.940721    1\n",
       "             ..\n",
       "450.217517    1\n",
       "139.847365    1\n",
       "697.820992    1\n",
       "199.891636    1\n",
       "180.936180    1\n",
       "Name: count, Length: 1000000, dtype: int64"
      ]
     },
     "execution_count": 39,
     "metadata": {},
     "output_type": "execute_result"
    }
   ],
   "source": [
    "# 4.5 viewing distribution of rainfall\n",
    "df_crop_clean['Rainfall_mm'].value_counts(dropna = False)"
   ]
  },
  {
   "cell_type": "code",
   "execution_count": 40,
   "id": "fb7a7167-76f8-4ef8-9923-0a6c1452e064",
   "metadata": {},
   "outputs": [
    {
     "data": {
      "text/plain": [
       "Text(0, 0.5, 'Count')"
      ]
     },
     "execution_count": 40,
     "metadata": {},
     "output_type": "execute_result"
    },
    {
     "data": {
      "image/png": "[encoded data removed]",
      "text/plain": [
       "<Figure size 640x480 with 1 Axes>"
      ]
     },
     "metadata": {},
     "output_type": "display_data"
    }
   ],
   "source": [
    "df_crop_clean['Rainfall_mm'].hist(bins = 30)\n",
    "plt.xlabel('Rainfall')\n",
    "plt.ylabel('Count')"
   ]
  },
  {
   "cell_type": "code",
   "execution_count": 41,
   "id": "216db4d7-84f9-4f14-af66-33607ea110ff",
   "metadata": {},
   "outputs": [
    {
     "data": {
      "text/plain": [
       "Temperature_Celsius\n",
       "27.676966    1\n",
       "21.029815    1\n",
       "27.187125    1\n",
       "27.615359    1\n",
       "32.270093    1\n",
       "            ..\n",
       "32.338564    1\n",
       "16.615633    1\n",
       "27.174165    1\n",
       "37.504912    1\n",
       "27.298847    1\n",
       "Name: count, Length: 1000000, dtype: int64"
      ]
     },
     "execution_count": 41,
     "metadata": {},
     "output_type": "execute_result"
    }
   ],
   "source": [
    "# 4.6 viewing distribution of temperature\n",
    "df_crop_clean['Temperature_Celsius'].value_counts(dropna = False)"
   ]
  },
  {
   "cell_type": "code",
   "execution_count": 42,
   "id": "5d88cd34-ac1b-46e1-94d3-2002b17999d6",
   "metadata": {},
   "outputs": [
    {
     "data": {
      "text/plain": [
       "Text(0, 0.5, 'Count')"
      ]
     },
     "execution_count": 42,
     "metadata": {},
     "output_type": "execute_result"
    },
    {
     "data": {
      "image/png": "[encoded data removed]",
      "text/plain": [
       "<Figure size 640x480 with 1 Axes>"
      ]
     },
     "metadata": {},
     "output_type": "display_data"
    }
   ],
   "source": [
    "df_crop_clean['Temperature_Celsius'].hist(bins = 30)\n",
    "plt.xlabel('Temperature')\n",
    "plt.ylabel('Count')"
   ]
  },
  {
   "cell_type": "code",
   "execution_count": 43,
   "id": "ea91bfac-b859-4b5c-9ffa-f081afe9d4a2",
   "metadata": {},
   "outputs": [
    {
     "data": {
      "text/plain": [
       "Days_to_Harvest\n",
       "91     11417\n",
       "122    11326\n",
       "72     11295\n",
       "102    11259\n",
       "114    11251\n",
       "       ...  \n",
       "134    10954\n",
       "139    10951\n",
       "131    10940\n",
       "67     10921\n",
       "149    10864\n",
       "Name: count, Length: 90, dtype: int64"
      ]
     },
     "execution_count": 43,
     "metadata": {},
     "output_type": "execute_result"
    }
   ],
   "source": [
    "# 4.7 viewing distribution of days to harvest\n",
    "df_crop_clean['Days_to_Harvest'].value_counts(dropna = False)"
   ]
  },
  {
   "cell_type": "code",
   "execution_count": 44,
   "id": "a810fed6-7a95-4053-9a01-c53f92f9cd48",
   "metadata": {},
   "outputs": [
    {
     "data": {
      "text/plain": [
       "Text(0, 0.5, 'Count')"
      ]
     },
     "execution_count": 44,
     "metadata": {},
     "output_type": "execute_result"
    },
    {
     "data": {
      "image/png": "[encoded data removed]",
      "text/plain": [
       "<Figure size 640x480 with 1 Axes>"
      ]
     },
     "metadata": {},
     "output_type": "display_data"
    }
   ],
   "source": [
    "df_crop['Days_to_Harvest'].hist(bins = 30)\n",
    "plt.xlabel('Days to Harvest')\n",
    "plt.ylabel('Count')"
   ]
  },
  {
   "cell_type": "code",
   "execution_count": 45,
   "id": "3c74c764-381d-4487-83a8-94287e21cd81",
   "metadata": {},
   "outputs": [
    {
     "data": {
      "text/plain": [
       "Yield_tons_per_hectare\n",
       "0.000000    231\n",
       "6.555816      1\n",
       "3.517813      1\n",
       "6.915861      1\n",
       "2.894459      1\n",
       "           ... \n",
       "5.372418      1\n",
       "4.968496      1\n",
       "4.443734      1\n",
       "2.721955      1\n",
       "2.937243      1\n",
       "Name: count, Length: 999770, dtype: int64"
      ]
     },
     "execution_count": 45,
     "metadata": {},
     "output_type": "execute_result"
    }
   ],
   "source": [
    "# 4.8 viewing distribution of yield\n",
    "df_crop_clean['Yield_tons_per_hectare'].value_counts(dropna = False)"
   ]
  },
  {
   "cell_type": "code",
   "execution_count": 46,
   "id": "5ff470fb-f1fa-47f0-ad33-965d19ec1474",
   "metadata": {},
   "outputs": [
    {
     "data": {
      "text/plain": [
       "Text(0, 0.5, 'Count')"
      ]
     },
     "execution_count": 46,
     "metadata": {},
     "output_type": "execute_result"
    },
    {
     "data": {
      "image/png": "[encoded data removed]",
      "text/plain": [
       "<Figure size 640x480 with 1 Axes>"
      ]
     },
     "metadata": {},
     "output_type": "display_data"
    }
   ],
   "source": [
    "df_crop_clean['Yield_tons_per_hectare'].hist(bins = 30)\n",
    "plt.xlabel('Yield')\n",
    "plt.ylabel('Count')"
   ]
  },
  {
   "cell_type": "code",
   "execution_count": 47,
   "id": "dcae91eb-4d22-4a05-9cb5-3d0065d52b30",
   "metadata": {},
   "outputs": [
    {
     "data": {
      "text/plain": [
       "Fertilizer_Used\n",
       "False    500060\n",
       "True     499940\n",
       "Name: count, dtype: int64"
      ]
     },
     "execution_count": 47,
     "metadata": {},
     "output_type": "execute_result"
    }
   ],
   "source": [
    "# 4.9 viewing distribution of fertilizer used\n",
    "df_crop_clean['Fertilizer_Used'].value_counts(dropna = False)"
   ]
  },
  {
   "cell_type": "code",
   "execution_count": 48,
   "id": "1ed9c90c-ee95-46ea-a56d-2eb39e6bfb9a",
   "metadata": {},
   "outputs": [
    {
     "data": {
      "text/plain": [
       "Text(0, 0.5, '')"
      ]
     },
     "execution_count": 48,
     "metadata": {},
     "output_type": "execute_result"
    },
    {
     "data": {
      "image/png": "[encoded data removed]",
      "text/plain": [
       "<Figure size 640x480 with 1 Axes>"
      ]
     },
     "metadata": {},
     "output_type": "display_data"
    }
   ],
   "source": [
    "df_crop_clean['Fertilizer_Used'].value_counts().plot.pie(startangle = 90)\n",
    "plt.ylabel('')"
   ]
  },
  {
   "cell_type": "code",
   "execution_count": 49,
   "id": "919a69f6-c0e4-42c2-b59b-929281248b65",
   "metadata": {},
   "outputs": [
    {
     "data": {
      "text/plain": [
       "Irrigation_Used\n",
       "False    500509\n",
       "True     499491\n",
       "Name: count, dtype: int64"
      ]
     },
     "execution_count": 49,
     "metadata": {},
     "output_type": "execute_result"
    }
   ],
   "source": [
    "# 4.10 viewing distribution of irrigartion used\n",
    "df_crop_clean['Irrigation_Used'].value_counts(dropna = False)"
   ]
  },
  {
   "cell_type": "code",
   "execution_count": 50,
   "id": "061fdff0-844b-4571-9641-7b2a551891d0",
   "metadata": {},
   "outputs": [
    {
     "data": {
      "text/plain": [
       "Text(0, 0.5, '')"
      ]
     },
     "execution_count": 50,
     "metadata": {},
     "output_type": "execute_result"
    },
    {
     "data": {
      "image/png": "[encoded data removed]",
      "text/plain": [
       "<Figure size 640x480 with 1 Axes>"
      ]
     },
     "metadata": {},
     "output_type": "display_data"
    }
   ],
   "source": [
    "df_crop_clean['Irrigation_Used'].value_counts().plot.pie(startangle = 90)\n",
    "plt.ylabel('')"
   ]
  },
  {
   "cell_type": "markdown",
   "id": "4c7a644d-02e1-44bd-8a9d-20ca8fd0dd43",
   "metadata": {},
   "source": [
    "## 5. Observations"
   ]
  },
  {
   "cell_type": "markdown",
   "id": "1e293781-f76a-4b3e-94a2-a2b043bfbbac",
   "metadata": {},
   "source": [
    "Most of the columns are evenly distributed other than the yield. This tells me that the yield is the independent variable and through my analysis I will have to figure out what contributes the most and least to growth, or if it is a combination of the other variables."
   ]
  },
  {
   "cell_type": "code",
   "execution_count": 88,
   "id": "3185a865-e0a9-41b2-880e-7fb433d887a2",
   "metadata": {},
   "outputs": [
    {
     "data": {
      "text/plain": [
       "(1000000, 10)"
      ]
     },
     "execution_count": 88,
     "metadata": {},
     "output_type": "execute_result"
    }
   ],
   "source": [
    "df_crop_clean.shape"
   ]
  },
  {
   "cell_type": "markdown",
   "id": "b875c15b-9b29-46e6-b229-41a8b56d0bfc",
   "metadata": {},
   "source": [
    "## 6. Export Data"
   ]
  },
  {
   "cell_type": "code",
   "execution_count": 90,
   "id": "ec3ca8de-f8e2-476b-89a1-25962e753e23",
   "metadata": {},
   "outputs": [],
   "source": [
    "df_crop_clean.to_pickle(os.path.join(path, '02 Data','Prepared Data', 'crop_yield_clean.pkl'))"
   ]
  },
  {
   "cell_type": "code",
   "execution_count": null,
   "id": "f33f532c-6d26-41da-832f-c356983b431a",
   "metadata": {},
   "outputs": [],
   "source": []
  }
 ],
 "metadata": {
  "kernelspec": {
   "display_name": "Python 3 (ipykernel)",
   "language": "python",
   "name": "python3"
  },
  "language_info": {
   "codemirror_mode": {
    "name": "ipython",
    "version": 3
   },
   "file_extension": ".py",
   "mimetype": "text/x-python",
   "name": "python",
   "nbconvert_exporter": "python",
   "pygments_lexer": "ipython3",
   "version": "3.11.7"
  }
 },
 "nbformat": 4,
 "nbformat_minor": 5
}
